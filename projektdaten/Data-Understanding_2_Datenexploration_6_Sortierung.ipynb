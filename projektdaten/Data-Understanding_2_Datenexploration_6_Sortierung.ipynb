{
 "cells": [
  {
   "cell_type": "code",
   "execution_count": 2,
   "id": "533fe1f6-2833-4809-a4a4-4b8093456e24",
   "metadata": {},
   "outputs": [
    {
     "name": "stdout",
     "output_type": "stream",
     "text": [
      "Sortieres Dokument gespeichert unter:  data/Obesity_Dataset_Sorted.xlsx\n"
     ]
    }
   ],
   "source": [
    "import matplotlib.pyplot as plt\n",
    "import seaborn as sns\n",
    "import pandas as pd\n",
    "\n",
    "# CSV-Datei von der Festplatte laden\n",
    "file_path = \"data/Obesity_Dataset.xlsx\"\n",
    "data = pd.read_excel(file_path)\n",
    "\n",
    "# Personen nach Größe sortieren\n",
    "data_sorted = data.sort_values(by='Age')\n",
    "\n",
    "# Sortierten Datensatz speichern\n",
    "sorted_file_path = \"data/Obesity_Dataset_Sorted.xlsx\"\n",
    "data_sorted.to_excel(sorted_file_path, index=False)\n",
    "\n",
    "# Ausgabe des Namens der neuen Datei\n",
    "print(\"Sortieres Dokument gespeichert unter: \", sorted_file_path)"
   ]
  },
  {
   "cell_type": "code",
   "execution_count": null,
   "id": "96be3c0f-2e40-4d43-b513-d7bca67de422",
   "metadata": {},
   "outputs": [],
   "source": []
  },
  {
   "cell_type": "code",
   "execution_count": null,
   "id": "c6da22dc-a297-4ef0-bad1-2f3fc40dda08",
   "metadata": {},
   "outputs": [],
   "source": []
  },
  {
   "cell_type": "code",
   "execution_count": null,
   "id": "c92e8027-e176-49ef-afe8-7c727405b73d",
   "metadata": {},
   "outputs": [],
   "source": []
  },
  {
   "cell_type": "code",
   "execution_count": null,
   "id": "dc1fd647-8a13-4f0f-9a7b-a10c859c6c9f",
   "metadata": {},
   "outputs": [],
   "source": []
  },
  {
   "cell_type": "code",
   "execution_count": null,
   "id": "60225feb-6634-44d6-8608-8517e2efb8fd",
   "metadata": {},
   "outputs": [],
   "source": []
  }
 ],
 "metadata": {
  "kernelspec": {
   "display_name": "Python [conda env:base] *",
   "language": "python",
   "name": "conda-base-py"
  },
  "language_info": {
   "codemirror_mode": {
    "name": "ipython",
    "version": 3
   },
   "file_extension": ".py",
   "mimetype": "text/x-python",
   "name": "python",
   "nbconvert_exporter": "python",
   "pygments_lexer": "ipython3",
   "version": "3.11.5"
  }
 },
 "nbformat": 4,
 "nbformat_minor": 5
}
