{
 "cells": [
  {
   "cell_type": "code",
   "execution_count": 2,
   "id": "e2fed6a9",
   "metadata": {},
   "outputs": [],
   "source": [
    "import pandas as pd\n",
    "\n",
    "# CSV-Datei von der Festplatte laden\n",
    "file_path = \"data/Obesity_Dataset.xlsx\"\n",
    "\n",
    "# Excel-Datei laden\n",
    "obesity_data = pd.read_excel(file_path)\n",
    "\n",
    "# BMI-Werte basierend auf der Klasse zuordnen\n",
    "bmi_mapping = {\n",
    "    1: 17.0,    # Class 1 -> BMI 17\n",
    "    2: 21.7,    # Class 2 -> BMI 21.7\n",
    "    3: 27.5,    # Class 3 -> BMI 27.5\n",
    "    4: 35.0     # Class 4 -> BMI 35\n",
    "}\n",
    "\n",
    "# Spalte \"BMI\" hinzufügen\n",
    "obesity_data['BMI'] = obesity_data['Class'].map(bmi_mapping)\n",
    "\n",
    "# Gewicht berechnen: \"Height\" * \"BMI\" / 1000\n",
    "obesity_data['Weight'] = ((obesity_data['Height'] * obesity_data['Height'] * obesity_data['BMI']) / 10000).round(2)\n",
    "\n",
    "# Ernährungsfaktoren: \"Consumption_of_Fast_Food\" - \"Frequency_of_Consuming_Vegetables\" + \"Number_of_Main_Meals_Daily\" + \"Food_Intake_Between_Meals\" - \"Liquid_Intake_Daily\" + 6\n",
    "obesity_data['FoodConsumption'] = obesity_data['Consumption_of_Fast_Food'] - obesity_data['Frequency_of_Consuming_Vegetables'] + obesity_data['Number_of_Main_Meals_Daily'] + obesity_data['Food_Intake_Between_Meals'] - obesity_data['Liquid_Intake_Daily'] + 4\n",
    "\n",
    "# Verhaltensfaktoren\n",
    "obesity_data['Activity'] = obesity_data['Smoking'] + obesity_data['Physical_Excercise'] - obesity_data['Schedule_Dedicated_to_Technology'] + obesity_data['Type_of_Transportation_Used'] + 1\n",
    "\n",
    "\n",
    "# Speichern der aktualisierten Datei mit den neuen Features\n",
    "output_path = '\"data/Obesity_Dataset_FE.xlsx'  # Neuer Dateiname\n",
    "obesity_data.to_excel(output_path, index=False)  # Speichern als Excel-Datei\n",
    "\n",
    "\n"
   ]
  },
  {
   "cell_type": "code",
   "execution_count": null,
   "id": "79c228b0",
   "metadata": {},
   "outputs": [],
   "source": []
  },
  {
   "cell_type": "code",
   "execution_count": null,
   "id": "f1d4970a",
   "metadata": {},
   "outputs": [],
   "source": []
  },
  {
   "cell_type": "code",
   "execution_count": null,
   "id": "242f1e37",
   "metadata": {},
   "outputs": [],
   "source": []
  }
 ],
 "metadata": {
  "kernelspec": {
   "display_name": "Python [conda env:base] *",
   "language": "python",
   "name": "conda-base-py"
  },
  "language_info": {
   "codemirror_mode": {
    "name": "ipython",
    "version": 3
   },
   "file_extension": ".py",
   "mimetype": "text/x-python",
   "name": "python",
   "nbconvert_exporter": "python",
   "pygments_lexer": "ipython3",
   "version": "3.11.5"
  }
 },
 "nbformat": 4,
 "nbformat_minor": 5
}
