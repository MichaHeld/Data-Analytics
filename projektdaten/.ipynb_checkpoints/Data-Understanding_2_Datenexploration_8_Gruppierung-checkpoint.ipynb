{
 "cells": [
  {
   "cell_type": "code",
   "execution_count": 1,
   "id": "d5aded1b-7768-4e16-9bdf-2f17d83bf012",
   "metadata": {},
   "outputs": [
    {
     "name": "stdout",
     "output_type": "stream",
     "text": [
      "Durchschnittliches Alter nach Gewichtsklasse:\n",
      "    Age     Class\n",
      "0    18  1.650000\n",
      "1    19  2.200000\n",
      "2    20  2.128571\n",
      "3    21  2.118421\n",
      "4    22  2.093750\n",
      "5    23  2.000000\n",
      "6    24  1.946429\n",
      "7    25  2.358974\n",
      "8    26  2.378378\n",
      "9    27  2.423077\n",
      "10   28  2.250000\n",
      "11   29  2.423077\n",
      "12   30  2.620000\n",
      "13   31  2.475000\n",
      "14   32  2.580000\n",
      "15   33  2.900000\n",
      "16   34  2.725000\n",
      "17   35  3.000000\n",
      "18   36  2.894737\n",
      "19   37  2.826087\n",
      "20   38  2.947368\n",
      "21   39  3.115385\n",
      "22   40  3.277778\n",
      "23   41  3.108696\n",
      "24   42  3.136364\n",
      "25   43  3.350000\n",
      "26   44  3.187500\n",
      "27   45  3.325000\n",
      "28   46  3.382353\n",
      "29   47  3.333333\n",
      "30   48  3.392857\n",
      "31   49  3.272727\n",
      "32   50  3.318182\n",
      "33   51  3.307692\n",
      "34   52  3.333333\n",
      "35   53  3.375000\n",
      "36   54  3.454545\n"
     ]
    }
   ],
   "source": [
    "import pandas as pd\n",
    "\n",
    "# CSV-Datei von der Festplatte laden\n",
    "file_path = \"data/Obesity_Dataset.xlsx\"\n",
    "data = pd.read_excel(file_path)\n",
    "\n",
    "# Gruppierung nach Gewichtsklasse und Berechnung des jeweiligen Durchschnittsalters\n",
    "age_by_gender = data.groupby('Class')['Age'].mean().reset_index()\n",
    "\n",
    "print(\"Durchschnittliches Alter nach Gewichtsklasse:\")\n",
    "print(age_by_gender)\n",
    "\n",
    "# Gruppierung ist nützlich für statistische Analysen, wie z. B. die Bestimmung\n"
   ]
  },
  {
   "cell_type": "code",
   "execution_count": null,
   "id": "f6e62543-0bb5-40e5-abeb-355b8c87a19e",
   "metadata": {},
   "outputs": [],
   "source": []
  }
 ],
 "metadata": {
  "kernelspec": {
   "display_name": "Python [conda env:base] *",
   "language": "python",
   "name": "conda-base-py"
  },
  "language_info": {
   "codemirror_mode": {
    "name": "ipython",
    "version": 3
   },
   "file_extension": ".py",
   "mimetype": "text/x-python",
   "name": "python",
   "nbconvert_exporter": "python",
   "pygments_lexer": "ipython3",
   "version": "3.11.5"
  }
 },
 "nbformat": 4,
 "nbformat_minor": 5
}
