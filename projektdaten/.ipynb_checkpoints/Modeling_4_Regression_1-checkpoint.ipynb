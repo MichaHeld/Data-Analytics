{
 "cells": [
  {
   "cell_type": "code",
   "execution_count": 4,
   "id": "0564d18a-7ca6-410c-ac04-66af057c00fe",
   "metadata": {},
   "outputs": [
    {
     "name": "stdout",
     "output_type": "stream",
     "text": [
      "               Age       Height       Weight          BMI  FoodConsumption  \\\n",
      "count  1610.000000  1610.000000  1610.000000  1610.000000      1610.000000   \n",
      "mean     33.115528   167.741615    73.504745    25.990435         5.824845   \n",
      "std       9.835076     7.979873    17.096973     5.149009         1.707041   \n",
      "min      18.000000   150.000000    38.760000    17.000000         1.000000   \n",
      "25%      25.000000   161.000000    59.800000    21.700000         5.000000   \n",
      "50%      32.000000   168.000000    70.400000    27.500000         6.000000   \n",
      "75%      41.000000   174.000000    85.180000    27.500000         7.000000   \n",
      "max      54.000000   193.000000   130.370000    35.000000        11.000000   \n",
      "\n",
      "          Activity  \n",
      "count  1610.000000  \n",
      "mean      6.614907  \n",
      "std       1.881387  \n",
      "min       1.000000  \n",
      "25%       5.000000  \n",
      "50%       7.000000  \n",
      "75%       8.000000  \n",
      "max      12.000000  \n"
     ]
    }
   ],
   "source": [
    "import pandas as pd\n",
    "import statsmodels.api as sm\n",
    "from statsmodels.formula.api import ols\n",
    "from statsmodels.stats.anova import anova_lm\n",
    "\n",
    "# Daten laden: pandas dataframe\n",
    "# Datensatz laden\n",
    "file_path = \"data/Obesity_Dataset_FE.xlsx\"\n",
    "data = pd.read_excel(file_path) \n",
    "\n",
    "selected_columns = data[['Age', 'Height', 'Weight', 'BMI', 'FoodConsumption', 'Activity']]\n",
    "\n",
    "# Datenbeschreibung:\n",
    "print(selected_columns.describe())  # Statistische Beschreibung der Daten\n",
    " "
   ]
  },
  {
   "cell_type": "code",
   "execution_count": null,
   "id": "4f849d07-4da0-4e82-961b-6243671c0e96",
   "metadata": {},
   "outputs": [],
   "source": []
  }
 ],
 "metadata": {
  "kernelspec": {
   "display_name": "Python [conda env:base] *",
   "language": "python",
   "name": "conda-base-py"
  },
  "language_info": {
   "codemirror_mode": {
    "name": "ipython",
    "version": 3
   },
   "file_extension": ".py",
   "mimetype": "text/x-python",
   "name": "python",
   "nbconvert_exporter": "python",
   "pygments_lexer": "ipython3",
   "version": "3.11.5"
  }
 },
 "nbformat": 4,
 "nbformat_minor": 5
}
