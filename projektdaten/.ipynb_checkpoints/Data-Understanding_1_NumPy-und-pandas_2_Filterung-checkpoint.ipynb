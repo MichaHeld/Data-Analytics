{
 "cells": [
  {
   "cell_type": "code",
   "execution_count": null,
   "id": "7a4500ff-b71f-49ca-92bb-228c6f8d35fb",
   "metadata": {},
   "outputs": [],
   "source": []
  },
  {
   "cell_type": "code",
   "execution_count": 1,
   "id": "9b0b3834-3ee8-4c59-97cb-c60d39eb3229",
   "metadata": {},
   "outputs": [],
   "source": [
    "import numpy as np\n",
    "# Columns: Sex, Age, Height, Consumption of Fast Food, Smoking, Class,\n",
    "#Row 2 - 8 in Excel\n",
    "obesity = np.array([\n",
    "[\"Female\",18, 1.55, False,False,\"Normal\"],\n",
    "[\"Female\",18, 1.58, False,False,\"Normal\"],\n",
    "[\"Female\",18, 1.59, False,False,\"Normal\"],\n",
    "[\"Female\",18, 1.62, False,False,\"Normal\"],\n",
    "[\"Female\",18, 1.65, True,False, \"Normal\"],\n",
    "[\"Female\",18, 1.76, True,False, \"Normal\"],\n",
    "[\"Female\",19, 1.52, False,False,\"Normal\"],\n",
    "#Row 28 - 31 in Excel\n",
    "[\"Female\",20, 1.60, False,False,\"Overweight\"],\n",
    "[\"Female\",20, 1.61, True, False, \"Normal\"],\n",
    "[\"Female\",20, 1.61, False,False,\"Overweight\"],\n",
    "[\"Female\",20, 1.61, True, False, \"Obesity\"]])"
   ]
  },
  {
   "cell_type": "code",
   "execution_count": 3,
   "id": "74afde54-1795-413d-83f8-a0f88857e973",
   "metadata": {},
   "outputs": [
    {
     "name": "stdout",
     "output_type": "stream",
     "text": [
      "[1.62 1.65 1.76 1.61 1.61 1.61]\n",
      "[19]\n",
      "['False' 'False' 'False' 'False' 'False' 'False' 'False' 'False' 'False'\n",
      " 'False' 'False']\n"
     ]
    }
   ],
   "source": [
    "# Aufteilen des Arrays in separate Arrays für jede Spalte\n",
    "Sex = obesity[:, 0]\n",
    "Age = obesity[:, 1].astype(int)\n",
    "Height = obesity[:, 2].astype(float)\n",
    "Consumption_of_Fast_Food = obesity[:, 3]\n",
    "Smoking = obesity[:, 4] \n",
    "Class = obesity[:, 5]\n",
    "\n",
    "# Bedingung:\n",
    "filtered_Height = Height[Height > 1.60]\n",
    "filtered_Age = Age[(Age > 18) & (Age < 20)]\n",
    "filtered_Smoking = Smoking[(Smoking == \"False\")]\n",
    "\n",
    "print (filtered_Height)\n",
    "print (filtered_Age)\n",
    "print (filtered_Smoking)"
   ]
  },
  {
   "cell_type": "code",
   "execution_count": null,
   "id": "d014e449-8bd2-49be-a41c-13a64cc36cb1",
   "metadata": {},
   "outputs": [],
   "source": []
  }
 ],
 "metadata": {
  "kernelspec": {
   "display_name": "Python 3 (ipykernel)",
   "language": "python",
   "name": "python3"
  },
  "language_info": {
   "codemirror_mode": {
    "name": "ipython",
    "version": 3
   },
   "file_extension": ".py",
   "mimetype": "text/x-python",
   "name": "python",
   "nbconvert_exporter": "python",
   "pygments_lexer": "ipython3",
   "version": "3.12.7"
  }
 },
 "nbformat": 4,
 "nbformat_minor": 5
}
