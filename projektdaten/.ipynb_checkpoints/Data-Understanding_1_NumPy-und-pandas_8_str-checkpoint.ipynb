{
 "cells": [
  {
   "cell_type": "code",
   "execution_count": 2,
   "id": "8617a0ca-45a0-47c3-828f-3266242693d6",
   "metadata": {},
   "outputs": [
    {
     "name": "stdout",
     "output_type": "stream",
     "text": [
      "         Sex  Age  Height  Overweight_Obese_Family  Consumption_of_Fast_Food  \\\n",
      "0     Female   18     155                        2                         2   \n",
      "1     Female   18     158                        2                         2   \n",
      "2     Female   18     159                        2                         2   \n",
      "3     Female   18     162                        2                         2   \n",
      "4     Female   18     165                        2                         1   \n",
      "...      ...  ...     ...                      ...                       ...   \n",
      "1605  Female   51     165                        2                         1   \n",
      "1606  Female   51     163                        2                         1   \n",
      "1607  Female   52     162                        1                         2   \n",
      "1608  Female   53     168                        2                         1   \n",
      "1609  Female   54     170                        1                         1   \n",
      "\n",
      "      Frequency_of_Consuming_Vegetables  Number_of_Main_Meals_Daily  \\\n",
      "0                                     3                           1   \n",
      "1                                     3                           1   \n",
      "2                                     2                           1   \n",
      "3                                     2                           2   \n",
      "4                                     2                           1   \n",
      "...                                 ...                         ...   \n",
      "1605                                  1                           3   \n",
      "1606                                  2                           2   \n",
      "1607                                  1                           3   \n",
      "1608                                  1                           3   \n",
      "1609                                  1                           3   \n",
      "\n",
      "      Food_Intake_Between_Meals  Smoking  Liquid_Intake_Daily  \\\n",
      "0                             3        2                    1   \n",
      "1                             1        2                    1   \n",
      "2                             3        2                    3   \n",
      "3                             2        2                    2   \n",
      "4                             3        2                    1   \n",
      "...                         ...      ...                  ...   \n",
      "1605                          4        1                    3   \n",
      "1606                          4        2                    2   \n",
      "1607                          4        1                    3   \n",
      "1608                          4        1                    2   \n",
      "1609                          4        1                    3   \n",
      "\n",
      "      Calculation_of_Calorie_Intake  Physical_Excercise  \\\n",
      "0                                 2                   3   \n",
      "1                                 2                   1   \n",
      "2                                 2                   2   \n",
      "3                                 2                   1   \n",
      "4                                 2                   3   \n",
      "...                             ...                 ...   \n",
      "1605                              1                   3   \n",
      "1606                              2                   5   \n",
      "1607                              1                   4   \n",
      "1608                              2                   2   \n",
      "1609                              2                   4   \n",
      "\n",
      "      Schedule_Dedicated_to_Technology  Type_of_Transportation_Used  Class  \n",
      "0                                    3                            4      2  \n",
      "1                                    3                            3      2  \n",
      "2                                    3                            4      2  \n",
      "3                                    3                            4      2  \n",
      "4                                    3                            2      2  \n",
      "...                                ...                          ...    ...  \n",
      "1605                                 1                            1      4  \n",
      "1606                                 1                            1      4  \n",
      "1607                                 1                            1      4  \n",
      "1608                                 1                            1      4  \n",
      "1609                                 3                            1      4  \n",
      "\n",
      "[1610 rows x 15 columns]\n"
     ]
    }
   ],
   "source": [
    "import pandas as pd\n",
    "\n",
    "\n",
    "# CSV-Datei von der Festplatte laden\n",
    "file_path = \"data/Obesity_Dataset.xlsx\"\n",
    "df = pd.read_excel(file_path)\n",
    "\n",
    "# Verwenden des str-Accessors, um die Transportarten in Großbuchstaben zu konvertieren\n",
    "df[\"Sex\"] = df[\"Sex\"].astype(str).str.replace(\"1\", \"Male\").str.replace(\"2\", \"Female\")\n",
    "\n",
    "# Ausgabe der Daten\n",
    "print(df)"
   ]
  },
  {
   "cell_type": "code",
   "execution_count": null,
   "id": "6174fc3b-be8c-4026-8e1b-5b3bea675bde",
   "metadata": {},
   "outputs": [],
   "source": []
  }
 ],
 "metadata": {
  "kernelspec": {
   "display_name": "Python [conda env:base] *",
   "language": "python",
   "name": "conda-base-py"
  },
  "language_info": {
   "codemirror_mode": {
    "name": "ipython",
    "version": 3
   },
   "file_extension": ".py",
   "mimetype": "text/x-python",
   "name": "python",
   "nbconvert_exporter": "python",
   "pygments_lexer": "ipython3",
   "version": "3.11.5"
  }
 },
 "nbformat": 4,
 "nbformat_minor": 5
}
