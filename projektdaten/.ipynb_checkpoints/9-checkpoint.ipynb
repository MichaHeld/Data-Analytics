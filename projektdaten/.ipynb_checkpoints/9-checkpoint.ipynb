{
 "cells": [
  {
   "cell_type": "code",
   "execution_count": 1,
   "id": "d5c4c151-c4af-4a57-bcb1-0c71f999323a",
   "metadata": {
    "scrolled": false
   },
   "outputs": [
    {
     "ename": "NameError",
     "evalue": "name 'data' is not defined",
     "output_type": "error",
     "traceback": [
      "\u001b[1;31m---------------------------------------------------------------------------\u001b[0m",
      "\u001b[1;31mNameError\u001b[0m                                 Traceback (most recent call last)",
      "Cell \u001b[1;32mIn[1], line 17\u001b[0m\n\u001b[0;32m     15\u001b[0m \u001b[38;5;66;03m#Define the target and features\u001b[39;00m\n\u001b[0;32m     16\u001b[0m target_column \u001b[38;5;241m=\u001b[39m \u001b[38;5;124m'\u001b[39m\u001b[38;5;124mClass\u001b[39m\u001b[38;5;124m'\u001b[39m\n\u001b[1;32m---> 17\u001b[0m X \u001b[38;5;241m=\u001b[39m data\u001b[38;5;241m.\u001b[39mdrop(columns\u001b[38;5;241m=\u001b[39m[target_column])  \u001b[38;5;66;03m# Features\u001b[39;00m\n\u001b[0;32m     18\u001b[0m y \u001b[38;5;241m=\u001b[39m data[target_column]  \u001b[38;5;66;03m# Target\u001b[39;00m\n\u001b[0;32m     20\u001b[0m \u001b[38;5;66;03m#Split the data into training and test sets (80% train, 20% test)\u001b[39;00m\n",
      "\u001b[1;31mNameError\u001b[0m: name 'data' is not defined"
     ]
    }
   ],
   "source": [
    "import pandas as pd\n",
    "from sklearn.preprocessing import StandardScaler\n",
    "from sklearn.cluster import KMeans\n",
    "import matplotlib.pyplot as plt\n",
    "from mpl_toolkits.mplot3d import Axes3D\n",
    "\n",
    "\n",
    "# CSV-Datei von der Festplatte laden\n",
    "file_path = r\"C:\\\\Users\\\\Michahaha\\\\Documents\\\\Data Analytics\\\\projektdaten\\\\data\\\\Obesity_Dataset_FE.xlsx\"\n",
    "\n",
    "# Excel-Datei laden\n",
    "obesity_data = pd.read_excel(file_path)\n",
    "\n",
    "\n",
    "#Define the target and features\n",
    "target_column = 'Class'\n",
    "X = data.drop(columns=[target_column])  # Features\n",
    "y = data[target_column]  # Target\n",
    "\n",
    "#Split the data into training and test sets (80% train, 20% test)\n",
    "X_train, X_test, y_train, y_test = train_test_split(X, y, test_size=0.2, random_state=42, stratify=y)\n",
    "\n",
    "#Output the sizes of the splits\n",
    "split_info = {\n",
    "    \"X_train_shape\": X_train.shape,\n",
    "    \"X_test_shape\": X_test.shape,\n",
    "    \"y_train_shape\": y_train.shape,\n",
    "    \"y_test_shape\": y_test.shape\n",
    "}\n",
    "\n",
    "split_info\n",
    "\n",
    "#Die Korrelationsanalyse zeigt eine starke Korrelation zwischen \"BMI\" und \"Weight\" (Korrelation =0.91 Korrelation=0.91). Daher ist es sinnvoll, eines dieser Merkmale zu entfernen, um Redundanz zu vermeiden. Ich werde \"Weight\" aus den Features ausschließen.\n",
    "\n"
   ]
  },
  {
   "cell_type": "code",
   "execution_count": null,
   "id": "fde858ac-8ce1-4f20-af40-ab0414f7200c",
   "metadata": {},
   "outputs": [],
   "source": []
  },
  {
   "cell_type": "code",
   "execution_count": null,
   "id": "390a533a-a74a-4da7-9e1a-017394d32f03",
   "metadata": {},
   "outputs": [],
   "source": []
  },
  {
   "cell_type": "code",
   "execution_count": null,
   "id": "b505d00d-9429-442d-a619-cf0a8449686b",
   "metadata": {},
   "outputs": [],
   "source": []
  },
  {
   "cell_type": "code",
   "execution_count": null,
   "id": "7a62de5b-0132-41ef-9a3e-2e3af34395c1",
   "metadata": {},
   "outputs": [],
   "source": []
  },
  {
   "cell_type": "code",
   "execution_count": null,
   "id": "f452cd98-1a40-4f40-bf07-9dac26bd27ee",
   "metadata": {},
   "outputs": [],
   "source": []
  }
 ],
 "metadata": {
  "kernelspec": {
   "display_name": "Python 3 (ipykernel)",
   "language": "python",
   "name": "python3"
  },
  "language_info": {
   "codemirror_mode": {
    "name": "ipython",
    "version": 3
   },
   "file_extension": ".py",
   "mimetype": "text/x-python",
   "name": "python",
   "nbconvert_exporter": "python",
   "pygments_lexer": "ipython3",
   "version": "3.11.5"
  }
 },
 "nbformat": 4,
 "nbformat_minor": 5
}
