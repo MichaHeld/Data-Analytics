{
 "cells": [
  {
   "cell_type": "code",
   "execution_count": 2,
   "id": "785e07fd-f236-4904-bbcb-aca5c88019c3",
   "metadata": {},
   "outputs": [
    {
     "name": "stdout",
     "output_type": "stream",
     "text": [
      "Aktuelle Spaltennamen: ['Sex', 'Age', 'Height', 'Overweight_Obese_Family', 'Consumption_of_Fast_Food', 'Frequency_of_Consuming_Vegetables', 'Number_of_Main_Meals_Daily', 'Food_Intake_Between_Meals', 'Smoking', 'Liquid_Intake_Daily', 'Calculation_of_Calorie_Intake', 'Physical_Excercise', 'Schedule_Dedicated_to_Technology', 'Type_of_Transportation_Used', 'Class']\n",
      "Fehlende Spalten: ['Übergewicht/Fettleibigkeit Familien', 'Fast Food Konsum', 'Gemüse Konsum Häufigkeit', 'Hauptmahlzeiten Täglich', 'Nahrungsaufnahme Zwischen Mahlzeiten', 'Flüssigkeitsaufnahme Täglich', 'Kalorienaufnahme Berechnung', 'Körperliche Betätigung', 'Technologischer Zeitplan', 'Verwendete Transportmittel']\n"
     ]
    }
   ],
   "source": [
    "import pandas as pd\n",
    "\n",
    "# CSV-Datei von der Festplatte laden\n",
    "file_path = \"data/Obesity_Dataset.xlsx\"\n",
    "\n",
    "# Excel-Datei laden\n",
    "df = pd.read_excel(file_path)\n",
    "\n",
    "# Aktuelle Spaltennamen anzeigen\n",
    "print(\"Aktuelle Spaltennamen:\", df.columns.tolist())\n",
    "\n",
    "# Spalten umbenennen (prüfe die tatsächlichen Namen im DataFrame)\n",
    "df.rename(columns={\n",
    "    'Sex': 'Geschlecht',\n",
    "    'Age': 'Alter',\n",
    "    'Height': 'Höhe',\n",
    "    'Overweight/Obese Families': 'Übergewicht/Fettleibigkeit Familien',\n",
    "    'Consumption of Fast Food': 'Fast Food Konsum',\n",
    "    'Frequency of Consuming Vegetables': 'Gemüse Konsum Häufigkeit',\n",
    "    'Number of Main Meals Daily': 'Hauptmahlzeiten Täglich',\n",
    "    'Food Intake Between Meals': 'Nahrungsaufnahme Zwischen Mahlzeiten',\n",
    "    'Smoking': 'Rauchen',\n",
    "    'Liquid Intake Daily': 'Flüssigkeitsaufnahme Täglich',\n",
    "    'Calculation Of Calorie Intake': 'Kalorienaufnahme Berechnung',\n",
    "    'Physical Exercise': 'Körperliche Betätigung',\n",
    "    'Schedule Dedicated to Technology': 'Technologischer Zeitplan',\n",
    "    'Type of Transportation Used': 'Verwendete Transportmittel',\n",
    "    'Class': 'Klasse'\n",
    "}, inplace=True)\n",
    "\n",
    "# Neue Reihenfolge der Spalten festlegen\n",
    "new_order = [\n",
    "    'Geschlecht',\n",
    "    'Alter',\n",
    "    'Höhe',\n",
    "    'Übergewicht/Fettleibigkeit Familien',\n",
    "    'Fast Food Konsum',\n",
    "    'Gemüse Konsum Häufigkeit',\n",
    "    'Hauptmahlzeiten Täglich',\n",
    "    'Nahrungsaufnahme Zwischen Mahlzeiten',\n",
    "    'Rauchen',\n",
    "    'Flüssigkeitsaufnahme Täglich',\n",
    "    'Kalorienaufnahme Berechnung',\n",
    "    'Körperliche Betätigung',\n",
    "    'Technologischer Zeitplan',\n",
    "    'Verwendete Transportmittel',\n",
    "    'Klasse'\n",
    "]\n",
    "\n",
    "# Überprüfen, ob alle neuen Spaltennamen vorhanden sind\n",
    "missing_columns = [col for col in new_order if col not in df.columns]\n",
    "if missing_columns:\n",
    "    print(f\"Fehlende Spalten: {missing_columns}\")\n",
    "else:\n",
    "    # DataFrame mit neuer Spaltenreihenfolge erstellen\n",
    "    df = df[new_order]\n",
    "    # Aktualisierten DataFrame anzeigen\n",
    "    print(df)"
   ]
  },
  {
   "cell_type": "code",
   "execution_count": null,
   "id": "018955c0-c345-4eaa-b432-3d9d33f92bb4",
   "metadata": {},
   "outputs": [],
   "source": []
  }
 ],
 "metadata": {
  "kernelspec": {
   "display_name": "Python [conda env:base] *",
   "language": "python",
   "name": "conda-base-py"
  },
  "language_info": {
   "codemirror_mode": {
    "name": "ipython",
    "version": 3
   },
   "file_extension": ".py",
   "mimetype": "text/x-python",
   "name": "python",
   "nbconvert_exporter": "python",
   "pygments_lexer": "ipython3",
   "version": "3.11.5"
  }
 },
 "nbformat": 4,
 "nbformat_minor": 5
}
