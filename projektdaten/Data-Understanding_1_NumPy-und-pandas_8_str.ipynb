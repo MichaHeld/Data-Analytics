{
 "cells": [
  {
   "cell_type": "code",
   "execution_count": null,
   "id": "8617a0ca-45a0-47c3-828f-3266242693d6",
   "metadata": {},
   "outputs": [],
   "source": [
    "import pandas as pd\n",
    "\n",
    "\n",
    "# CSV-Datei von der Festplatte laden\n",
    "file_path = \"data/Obesity_Dataset.xlsx\"\n",
    "\n",
    "df = pd.read_excel(file_path)\n",
    "\n",
    "# Verwenden des str-Accessors, um die Transportarten in Großbuchstaben zu konvertieren\n",
    "df[\"Sex\"] = df[\"Sex\"].astype(str).str.replace(\"1\", \"Male\").str.replace(\"2\", \"Female\")\n",
    "\n",
    "print(df)"
   ]
  }
 ],
 "metadata": {
  "kernelspec": {
   "display_name": "Python [conda env:base] *",
   "language": "python",
   "name": "conda-base-py"
  },
  "language_info": {
   "codemirror_mode": {
    "name": "ipython",
    "version": 3
   },
   "file_extension": ".py",
   "mimetype": "text/x-python",
   "name": "python",
   "nbconvert_exporter": "python",
   "pygments_lexer": "ipython3",
   "version": "3.11.5"
  }
 },
 "nbformat": 4,
 "nbformat_minor": 5
}
