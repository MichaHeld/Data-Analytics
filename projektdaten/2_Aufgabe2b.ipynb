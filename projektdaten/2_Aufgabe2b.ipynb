{
 "cells": [
  {
   "cell_type": "code",
   "execution_count": 1,
   "id": "a0f097bc-0f2e-40f4-8fda-043e477a0c21",
   "metadata": {},
   "outputs": [
    {
     "name": "stdout",
     "output_type": "stream",
     "text": [
      "Statistische Zusammenfassung für die Spalte 'Weight':\n",
      "count    1610.000000\n",
      "mean      167.741615\n",
      "std         7.979873\n",
      "min       150.000000\n",
      "25%       161.000000\n",
      "50%       168.000000\n",
      "75%       174.000000\n",
      "max       193.000000\n",
      "Name: Height, dtype: float64\n"
     ]
    }
   ],
   "source": [
    "import matplotlib.pyplot as plt\n",
    "import seaborn as sns\n",
    "import pandas as pd\n",
    "\n",
    "# CSV-Datei von der Festplatte laden\n",
    "file_path = \"data/Obesity_Dataset.xlsx\"\n",
    "data = pd.read_excel(file_path)\n",
    "\n",
    "# Statistische Zusammenfassung der Spalte 'Height'\n",
    "weight_summary = data['Height'].describe()\n",
    "\n",
    "# Ausgabe der Statistik in Jupyter\n",
    "print(\"Statistische Zusammenfassung für die Spalte 'Weight':\")\n",
    "print(weight_summary)"
   ]
  },
  {
   "cell_type": "code",
   "execution_count": null,
   "id": "146d9b15-1a49-4c89-bc75-f18739a2d491",
   "metadata": {},
   "outputs": [],
   "source": []
  }
 ],
 "metadata": {
  "kernelspec": {
   "display_name": "Python [conda env:base] *",
   "language": "python",
   "name": "conda-base-py"
  },
  "language_info": {
   "codemirror_mode": {
    "name": "ipython",
    "version": 3
   },
   "file_extension": ".py",
   "mimetype": "text/x-python",
   "name": "python",
   "nbconvert_exporter": "python",
   "pygments_lexer": "ipython3",
   "version": "3.11.5"
  }
 },
 "nbformat": 4,
 "nbformat_minor": 5
}
