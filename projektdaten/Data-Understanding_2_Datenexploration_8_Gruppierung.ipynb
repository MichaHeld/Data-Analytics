{
 "cells": [
  {
   "cell_type": "code",
   "execution_count": 2,
   "id": "d5aded1b-7768-4e16-9bdf-2f17d83bf012",
   "metadata": {},
   "outputs": [
    {
     "name": "stdout",
     "output_type": "stream",
     "text": [
      "Durchschnittliches Alter nach Gewichtsklasse:\n",
      "   Class        Age\n",
      "0      1  26.054795\n",
      "1      2  26.176292\n",
      "2      3  38.508446\n",
      "3      4  39.696864\n"
     ]
    }
   ],
   "source": [
    "import pandas as pd\n",
    "\n",
    "# CSV-Datei von der Festplatte laden\n",
    "file_path = \"data/Obesity_Dataset.xlsx\"\n",
    "data = pd.read_excel(file_path)\n",
    "\n",
    "# Gruppierung nach Gewichtsklasse und Berechnung des jeweiligen Durchschnittsalters\n",
    "age_by_gender = data.groupby('Class')['Age'].mean().reset_index()\n",
    "\n",
    "print(\"Durchschnittliches Alter nach Gewichtsklasse:\")\n",
    "print(age_by_gender)\n",
    "\n",
    "# Gruppierung ist nützlich für statistische Analysen, wie z. B. die Bestimmung\n"
   ]
  },
  {
   "cell_type": "code",
   "execution_count": null,
   "id": "f6e62543-0bb5-40e5-abeb-355b8c87a19e",
   "metadata": {},
   "outputs": [],
   "source": []
  }
 ],
 "metadata": {
  "kernelspec": {
   "display_name": "Python [conda env:base] *",
   "language": "python",
   "name": "conda-base-py"
  },
  "language_info": {
   "codemirror_mode": {
    "name": "ipython",
    "version": 3
   },
   "file_extension": ".py",
   "mimetype": "text/x-python",
   "name": "python",
   "nbconvert_exporter": "python",
   "pygments_lexer": "ipython3",
   "version": "3.11.5"
  }
 },
 "nbformat": 4,
 "nbformat_minor": 5
}
