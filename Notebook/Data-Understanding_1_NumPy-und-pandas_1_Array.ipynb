{
 "cells": [
  {
   "cell_type": "code",
   "execution_count": null,
   "id": "7a4500ff-b71f-49ca-92bb-228c6f8d35fb",
   "metadata": {},
   "outputs": [],
   "source": [
    "import numpy as np\n",
    "# Columns: Sex, Age, Height, Consumption of Fast Food, Smoking, Class,\n",
    "#Row 2 - 8 in Excel\n",
    "obesity = np.array([\n",
    "[\"Female\",18, 1.55, False,False,\"Normal\"],\n",
    "[\"Female\",18, 1.58, False,False,\"Normal\"],\n",
    "[\"Female\",18, 1.59, False,False,\"Normal\"],\n",
    "[\"Female\",18, 1.62, False,False,\"Normal\"],\n",
    "[\"Female\",18, 1.65, True,False, \"Normal\"],\n",
    "[\"Female\",18, 1.76, True,False, \"Normal\"],\n",
    "[\"Female\",19, 1.52, False,False,\"Normal\"],\n",
    "#Row 28 - 31 in Excel\n",
    "[\"Female\",20, 1.60, False,False,\"Overweight\"],\n",
    "[\"Female\",20, 1.61, True, False, \"Normal\"],\n",
    "[\"Female\",20, 1.61, False,False,\"Overweight\"],\n",
    "[\"Female\",20, 1.61, True, False, \"Obesity\"]])"
   ]
  },
  {
   "cell_type": "code",
   "execution_count": 1,
   "id": "9b0b3834-3ee8-4c59-97cb-c60d39eb3229",
   "metadata": {},
   "outputs": [],
   "source": []
  }
 ],
 "metadata": {
  "kernelspec": {
   "display_name": "Python [conda env:base] *",
   "language": "python",
   "name": "conda-base-py"
  },
  "language_info": {
   "codemirror_mode": {
    "name": "ipython",
    "version": 3
   },
   "file_extension": ".py",
   "mimetype": "text/x-python",
   "name": "python",
   "nbconvert_exporter": "python",
   "pygments_lexer": "ipython3",
   "version": "3.11.5"
  }
 },
 "nbformat": 4,
 "nbformat_minor": 5
}
