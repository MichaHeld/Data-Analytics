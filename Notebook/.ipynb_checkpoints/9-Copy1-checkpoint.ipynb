{
 "cells": [
  {
   "cell_type": "code",
   "execution_count": 1,
   "id": "d5c4c151-c4af-4a57-bcb1-0c71f999323a",
   "metadata": {
    "scrolled": false
   },
   "outputs": [
    {
     "ename": "SyntaxError",
     "evalue": "invalid character '’' (U+2019) (2865050846.py, line 18)",
     "output_type": "error",
     "traceback": [
      "\u001b[1;36m  Cell \u001b[1;32mIn[1], line 18\u001b[1;36m\u001b[0m\n\u001b[1;33m    It seems like I can’t do more advanced data analysis right now. Please try again later. Let me know if there’s anything else I can help you with!\u001b[0m\n\u001b[1;37m                       ^\u001b[0m\n\u001b[1;31mSyntaxError\u001b[0m\u001b[1;31m:\u001b[0m invalid character '’' (U+2019)\n"
     ]
    }
   ],
   "source": [
    "import seaborn as sns\n",
    "import matplotlib.pyplot as plt\n",
    "\n",
    "#Check for feature correlation\n",
    "correlation_matrix = X_train.corr()\n",
    "\n",
    "#Plot the correlation heatmap\n",
    "plt.figure(figsize=(12, 10))\n",
    "sns.heatmap(correlation_matrix, annot=True, fmt=\".2f\", cmap=\"coolwarm\")\n",
    "plt.title(\"Feature Correlation Heatmap\")\n",
    "plt.show()\n",
    "\n",
    "#Identify highly correlated features (threshold > 0.85)\n",
    "high_correlation = correlation_matrix[(correlation_matrix > 0.85) & (correlation_matrix < 1.0)]\n",
    "high_correlation = high_correlation.stack().reset_index()\n",
    "high_correlation.columns = ['Feature_1', 'Feature_2', 'Correlation']\n",
    "high_correlation\n",
    "It seems like I can’t do more advanced data analysis right now. Please try again later. Let me know if there’s anything else I can help you with!\n",
    "Drop the highly correlated feature \"Weight\"\n",
    "X_train_selected = X_train.drop(columns=[\"Weight\"])\n",
    "X_test_selected = X_test.drop(columns=[\"Weight\"])\n",
    "\n",
    "#Verify the new feature set dimensions\n",
    "selected_features_info = {\n",
    "    \"X_train_selected_shape\": X_train_selected.shape,\n",
    "    \"X_test_selected_shape\": X_test_selected.shape\n",
    "}\n",
    "\n",
    "selected_features_info\n"
   ]
  },
  {
   "cell_type": "code",
   "execution_count": null,
   "id": "fde858ac-8ce1-4f20-af40-ab0414f7200c",
   "metadata": {},
   "outputs": [],
   "source": []
  },
  {
   "cell_type": "code",
   "execution_count": null,
   "id": "390a533a-a74a-4da7-9e1a-017394d32f03",
   "metadata": {},
   "outputs": [],
   "source": []
  },
  {
   "cell_type": "code",
   "execution_count": null,
   "id": "b505d00d-9429-442d-a619-cf0a8449686b",
   "metadata": {},
   "outputs": [],
   "source": []
  },
  {
   "cell_type": "code",
   "execution_count": null,
   "id": "7a62de5b-0132-41ef-9a3e-2e3af34395c1",
   "metadata": {},
   "outputs": [],
   "source": []
  },
  {
   "cell_type": "code",
   "execution_count": null,
   "id": "f452cd98-1a40-4f40-bf07-9dac26bd27ee",
   "metadata": {},
   "outputs": [],
   "source": []
  }
 ],
 "metadata": {
  "kernelspec": {
   "display_name": "Python 3 (ipykernel)",
   "language": "python",
   "name": "python3"
  },
  "language_info": {
   "codemirror_mode": {
    "name": "ipython",
    "version": 3
   },
   "file_extension": ".py",
   "mimetype": "text/x-python",
   "name": "python",
   "nbconvert_exporter": "python",
   "pygments_lexer": "ipython3",
   "version": "3.11.5"
  }
 },
 "nbformat": 4,
 "nbformat_minor": 5
}
