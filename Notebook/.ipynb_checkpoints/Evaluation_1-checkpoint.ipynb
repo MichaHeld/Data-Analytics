{
 "cells": [
  {
   "cell_type": "code",
   "execution_count": 6,
   "id": "ba1d2325-31a8-4b90-93a6-87620fc568b1",
   "metadata": {},
   "outputs": [
    {
     "name": "stdout",
     "output_type": "stream",
     "text": [
      "Gesamtzahl Datenpunkte Training:  1288\n",
      "Anzahl Kategorie 0 58\n",
      "Anzahl Kategorie 1 526\n",
      "Anzahl Kategorie 2 474\n",
      "Anzahl Kategorie 3 230\n",
      "              precision    recall  f1-score   support\n",
      "\n",
      "           0       0.10      0.93      0.18        15\n",
      "           1       0.66      0.20      0.31       132\n",
      "           2       0.67      0.41      0.51       118\n",
      "           3       0.52      0.65      0.58        57\n",
      "\n",
      "    accuracy                           0.39       322\n",
      "   macro avg       0.49      0.55      0.39       322\n",
      "weighted avg       0.61      0.39      0.42       322\n",
      "\n"
     ]
    }
   ],
   "source": [
    "import pandas as pd\n",
    "from sklearn.model_selection import train_test_split\n",
    "from sklearn.pipeline import Pipeline\n",
    "from sklearn.preprocessing import StandardScaler\n",
    "from sklearn.naive_bayes import GaussianNB\n",
    "from sklearn.metrics import classification_report\n",
    "\n",
    "# Schritt 1: Daten laden und vorbereiten\n",
    "file_path = \"data/Obesity_Dataset_FE_WOBMI.xlsx\"\n",
    "data = pd.read_excel(file_path)\n",
    "\n",
    "# Ziel- und Feature-Spalten definieren\n",
    "target_column = 'Class'\n",
    "X = data.drop(columns=[target_column])  # Features\n",
    "y = data[target_column]  # Zielvariable\n",
    "\n",
    "# Klassenlabels auf 0-basierte Indizes umstellen\n",
    "y = y - y.min()\n",
    "\n",
    "# Schritt 2: Daten in Training und Test aufteilen\n",
    "X_train, X_test, y_train, y_test = train_test_split(X, y, test_size=0.2, random_state=42, stratify=y)\n",
    "\n",
    "# Übersicht über Klassen in den Trainingsdaten\n",
    "print(\"Gesamtzahl Datenpunkte Training: \", len(y_train))\n",
    "\n",
    "for i in range(0,4):\n",
    "    print(\"Anzahl Kategorie\", str(i), list(y_train).count(i))\n",
    "\n",
    "# Schritt 3: Baseline-Modell: Naive Bayes\n",
    "# Pipeline erstellen\n",
    "baseline_pipeline = Pipeline(steps=[\n",
    "    ('scaler', StandardScaler()),  # Skalieren der Daten\n",
    "    ('classifier', GaussianNB())    # Naive Bayes Klassifikator\n",
    "])\n",
    "\n",
    "# Modell mit den Trainingsdaten trainieren\n",
    "baseline_pipeline.fit(X_train, y_train)\n",
    "\n",
    "# Vorhersagen auf den Testdaten machen\n",
    "y_pred = baseline_pipeline.predict(X_test)\n",
    "\n",
    "# Ergebnisse auswerten\n",
    "print(classification_report(y_test, y_pred))\n"
   ]
  },
  {
   "cell_type": "code",
   "execution_count": null,
   "id": "9cc74c3c-6089-4464-9858-2b365c8229b5",
   "metadata": {},
   "outputs": [],
   "source": []
  }
 ],
 "metadata": {
  "kernelspec": {
   "display_name": "Python [conda env:base] *",
   "language": "python",
   "name": "conda-base-py"
  },
  "language_info": {
   "codemirror_mode": {
    "name": "ipython",
    "version": 3
   },
   "file_extension": ".py",
   "mimetype": "text/x-python",
   "name": "python",
   "nbconvert_exporter": "python",
   "pygments_lexer": "ipython3",
   "version": "3.11.5"
  }
 },
 "nbformat": 4,
 "nbformat_minor": 5
}
