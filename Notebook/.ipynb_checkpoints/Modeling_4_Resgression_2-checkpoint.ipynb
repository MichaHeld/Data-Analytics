{
 "cells": [
  {
   "cell_type": "code",
   "execution_count": 2,
   "id": "3609f609-5b07-4152-bb1e-a62d437b2f8b",
   "metadata": {},
   "outputs": [
    {
     "name": "stdout",
     "output_type": "stream",
     "text": [
      "                            OLS Regression Results                            \n",
      "==============================================================================\n",
      "Dep. Variable:                    BMI   R-squared:                       0.991\n",
      "Model:                            OLS   Adj. R-squared:                  0.991\n",
      "Method:                 Least Squares   F-statistic:                 3.487e+04\n",
      "Date:                Wed, 08 Jan 2025   Prob (F-statistic):               0.00\n",
      "Time:                        17:40:47   Log-Likelihood:                -1140.9\n",
      "No. Observations:                1610   AIC:                             2294.\n",
      "Df Residuals:                    1604   BIC:                             2326.\n",
      "Df Model:                           5                                         \n",
      "Covariance Type:            nonrobust                                         \n",
      "===================================================================================\n",
      "                      coef    std err          t      P>|t|      [0.025      0.975]\n",
      "-----------------------------------------------------------------------------------\n",
      "Intercept          51.8728      0.311    166.775      0.000      51.263      52.483\n",
      "Activity            0.0250      0.007      3.687      0.000       0.012       0.038\n",
      "FoodConsumption     0.0203      0.008      2.533      0.011       0.005       0.036\n",
      "Age                 0.0074      0.002      4.702      0.000       0.004       0.010\n",
      "Weight              0.3492      0.001    312.746      0.000       0.347       0.351\n",
      "Height             -0.3105      0.002   -160.121      0.000      -0.314      -0.307\n",
      "==============================================================================\n",
      "Omnibus:                      218.558   Durbin-Watson:                   1.141\n",
      "Prob(Omnibus):                  0.000   Jarque-Bera (JB):              665.748\n",
      "Skew:                          -0.689   Prob(JB):                    2.72e-145\n",
      "Kurtosis:                       5.832   Cond. No.                     4.73e+03\n",
      "==============================================================================\n",
      "\n",
      "Notes:\n",
      "[1] Standard Errors assume that the covariance matrix of the errors is correctly specified.\n",
      "[2] The condition number is large, 4.73e+03. This might indicate that there are\n",
      "strong multicollinearity or other numerical problems.\n",
      "\n",
      "ANOVA results\n",
      "   df_resid           ssr  df_diff       ss_diff             F  Pr(>F)\n",
      "0    1608.0  42619.793893      0.0           NaN           NaN     NaN\n",
      "1    1606.0  24396.163048      2.0  18223.630845  37579.391518     0.0\n",
      "2    1604.0    388.919334      2.0  24007.243714  49505.920005     0.0\n"
     ]
    }
   ],
   "source": [
    "# Importieren der notwendigen Bibliotheken\n",
    "import pandas as pd  \n",
    "import statsmodels.api as sm  \n",
    "from statsmodels.formula.api import ols  \n",
    "from statsmodels.stats.anova import anova_lm  \n",
    "\n",
    "# Laden der Daten\n",
    "file_path = \"data/Obesity_Dataset_FE.xlsx\"\n",
    "data = pd.read_excel(file_path)  \n",
    "\n",
    "# Erstellen von linearen Modellen\n",
    "Basic = ols(\"BMI ~ Activity\", data).fit()  # Modell mit nur Aktivität\n",
    "Full = ols(\"BMI ~ Activity + FoodConsumption + Age + Weight + Height\", data).fit()  # Modell mit mehreren Faktoren\n",
    "Opt = ols(\"BMI ~ Activity + FoodConsumption + Age\", data).fit()  # Optimiertes Modell\n",
    "\n",
    "# Ausgabe der Zusammenfassung des vollständigen Modells\n",
    "print(Full.summary())\n",
    "\n",
    "# ANOVA-Test zum Vergleichen der Modelle\n",
    "anova_results = anova_lm(Basic, Opt, Full)\n",
    "\n",
    "# Ausgabe der ANOVA-Ergebnisse\n",
    "print('\\nANOVA results')\n",
    "print(anova_results)\n"
   ]
  },
  {
   "cell_type": "code",
   "execution_count": null,
   "id": "53bdbcf1-b664-4304-8500-536241f2dab2",
   "metadata": {},
   "outputs": [],
   "source": []
  }
 ],
 "metadata": {
  "kernelspec": {
   "display_name": "Python [conda env:base] *",
   "language": "python",
   "name": "conda-base-py"
  },
  "language_info": {
   "codemirror_mode": {
    "name": "ipython",
    "version": 3
   },
   "file_extension": ".py",
   "mimetype": "text/x-python",
   "name": "python",
   "nbconvert_exporter": "python",
   "pygments_lexer": "ipython3",
   "version": "3.11.5"
  }
 },
 "nbformat": 4,
 "nbformat_minor": 5
}
