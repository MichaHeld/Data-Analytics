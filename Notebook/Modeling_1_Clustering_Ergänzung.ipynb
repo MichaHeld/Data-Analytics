{
 "cells": [
  {
   "cell_type": "code",
   "execution_count": 3,
   "id": "f2548765-8c4c-47e8-b17f-4bd153c764b5",
   "metadata": {},
   "outputs": [
    {
     "name": "stdout",
     "output_type": "stream",
     "text": [
      "Durchschnittlicher Silhouette-Koeffizient: 0.25\n",
      "\n",
      "Cluster-Parameter:\n",
      "         Avg_Activity  Avg_Weight  Avg_FoodConsumption  Cluster_Size  \\\n",
      "Cluster                                                                \n",
      "0            8.028698   66.079845             4.353201           453   \n",
      "1            8.075758   78.312727             7.339394           330   \n",
      "2            5.428571   96.837760             7.103896           308   \n",
      "3            5.156069   63.081387             5.387283           519   \n",
      "\n",
      "         Avg_Silhouette  Std_Silhouette  \n",
      "Cluster                                  \n",
      "0              0.267954        0.131310  \n",
      "1              0.218044        0.129149  \n",
      "2              0.223010        0.136052  \n",
      "3              0.256388        0.128437  \n"
     ]
    }
   ],
   "source": [
    "import pandas as pd\n",
    "from sklearn.preprocessing import StandardScaler\n",
    "from sklearn.cluster import KMeans\n",
    "from sklearn.metrics import silhouette_score, silhouette_samples\n",
    "import matplotlib.pyplot as plt\n",
    "import numpy as np\n",
    "\n",
    "# 1. Daten einlesen\n",
    "file_path = \"data/Obesity_Dataset_FE.xlsx\"\n",
    "data = pd.read_excel(file_path)\n",
    "\n",
    "# 2. Wichtige Spalten auswählen\n",
    "features = ['Activity', 'Weight', 'FoodConsumption']\n",
    "data_filtered = data[features].copy()\n",
    "\n",
    "# 3. Skalierung der Daten\n",
    "scaler = StandardScaler()\n",
    "data_scaled = scaler.fit_transform(data_filtered)\n",
    "\n",
    "# 4. Clustering mit K-Means\n",
    "n_clusters = 4  # Anzahl der Cluster\n",
    "kmeans = KMeans(n_clusters=n_clusters, random_state=42, n_init=10)\n",
    "kmeans.fit(data_scaled)\n",
    "\n",
    "# Cluster-Zuordnung hinzufügen\n",
    "data_filtered['Cluster'] = kmeans.labels_\n",
    "\n",
    "# 5. Silhouette-Koeffizient berechnen\n",
    "silhouette_avg = silhouette_score(data_scaled, kmeans.labels_)\n",
    "print(f\"Durchschnittlicher Silhouette-Koeffizient: {silhouette_avg:.2f}\")\n",
    "\n",
    "# Silhouette-Werte für jeden Punkt\n",
    "silhouette_vals = silhouette_samples(data_scaled, kmeans.labels_)\n",
    "data_filtered['Silhouette'] = silhouette_vals\n",
    "\n",
    "# 6. Cluster-Statistiken berechnen\n",
    "cluster_stats = data_filtered.groupby('Cluster').agg(\n",
    "    Avg_Activity=('Activity', 'mean'),\n",
    "    Avg_Weight=('Weight', 'mean'),\n",
    "    Avg_FoodConsumption=('FoodConsumption', 'mean'),\n",
    "    Cluster_Size=('Cluster', 'count'),\n",
    "    Avg_Silhouette=('Silhouette', 'mean'),\n",
    "    Std_Silhouette=('Silhouette', 'std')\n",
    ")\n",
    "\n",
    "# Ergebnisse anzeigen\n",
    "print(\"\\nCluster-Parameter:\")\n",
    "print(cluster_stats)\n"
   ]
  },
  {
   "cell_type": "code",
   "execution_count": null,
   "id": "f5cd3de9-5aab-43c4-a8b8-c57b70cd878d",
   "metadata": {},
   "outputs": [],
   "source": []
  },
  {
   "cell_type": "code",
   "execution_count": null,
   "id": "964fa8e7-6dc5-4cd0-8a60-0a55d2b5183d",
   "metadata": {},
   "outputs": [],
   "source": []
  }
 ],
 "metadata": {
  "kernelspec": {
   "display_name": "Python 3 (ipykernel)",
   "language": "python",
   "name": "python3"
  },
  "language_info": {
   "codemirror_mode": {
    "name": "ipython",
    "version": 3
   },
   "file_extension": ".py",
   "mimetype": "text/x-python",
   "name": "python",
   "nbconvert_exporter": "python",
   "pygments_lexer": "ipython3",
   "version": "3.12.8"
  }
 },
 "nbformat": 4,
 "nbformat_minor": 5
}
