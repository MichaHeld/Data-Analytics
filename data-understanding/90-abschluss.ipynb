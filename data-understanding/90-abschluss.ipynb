{
 "cells": [
  {
   "cell_type": "markdown",
   "id": "15abc637",
   "metadata": {},
   "source": [
    "# Abschluss\n",
    "\n",
    "In den vorherigen Kapiteln sind wir teilweise recht tief in die Daten eingetaucht. Zum Abschluss der Phasen \"Data Understanding\" und \"Data Preparation\" treten wir hier noch mal einen Schritt zurück, um zu reflektieren was wir erreicht haben.\n",
    "\n",
    "**Data Understanding**\n",
    "\n",
    "Wir haben die Datensätze untersucht, um sowohl die Datenstruktur zu verstehen (Bedeutung der Spalten, Kodierungen, Skalen, etc.), die Daten zu verstehen (Verteilungen der Werte, Korrelationen, Statistiken) als auch die geschäftliche Domäne zu verstehen (wie viele Städte gibt es?, wie alt und lang sind deren Liniennetze?). Dazu haben wir folgende Techniken angewandt:\n",
    "- Zusammenfassungen und Anordnungen der Daten: Gruppierungen, Sortierungen, Pivotierungen, etc.\n",
    "- Korrelationsanalysen inkl. einfacher linearer Regressionen\n",
    "- Visualisierungen (Histogramme, Liniencharts, Barcharts, Scatter-Plots)\n",
    "\n",
    "\n",
    "**Data Preparation**\n",
    "\n",
    "Wir haben ein DataFrame erzeugt, das in jeder Zeile eine Beobachtung hat. Dieses DataFrame kann nun für weitere explorative Datenanalyse oder insbesondere für die Entwicklung eines Analytics-Modells verwendet werden. Eine Beobachtung in unserem Falle ist eine Stadt mit Informationen über ihren öffentlichen Nahverkehr. Diese Informationen ist in Spalten strukturiert - so genannte Features, die wir für jeden einzelne Beobachtungen in einem einheitlich Format haben. Dies haben wir erreicht durch:\n",
    "- Datentransformationen, z.B. die Umwandlung von Zeilen (eine Zeile je Kombination Transport-Modus und Stadt) in Spalten (eine Zeile je Stadt und eine Spalte je Transport-Modus)\n",
    "- Passender Kodierung für nachfolgende Modelle, z.B. die One-Hot-Kodierung von Kategorien für die Verwendung mit linearen Modellen (u.a.)\n",
    "- Extraktion von Features aus Rohdaten, z.B. die Ableitung des Wochentags aus einem Datum\n",
    "- Anreicherung mit Daten aus weiteren Datensätzen, z.B. anfügen eines Datensatzes über Haltestellen, der auf Stadtebene aggregiert wurde"
   ]
  }
 ],
 "metadata": {
  "kernelspec": {
   "display_name": "Python 3 (ipykernel)",
   "language": "python",
   "name": "python3"
  },
  "language_info": {
   "codemirror_mode": {
    "name": "ipython",
    "version": 3
   },
   "file_extension": ".py",
   "mimetype": "text/x-python",
   "name": "python",
   "nbconvert_exporter": "python",
   "pygments_lexer": "ipython3",
   "version": "3.8.1"
  }
 },
 "nbformat": 4,
 "nbformat_minor": 5
}
