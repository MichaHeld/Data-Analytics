{
 "cells": [
  {
   "cell_type": "markdown",
   "metadata": {},
   "source": [
    "# NumPy\n",
    "\n",
    "NumPy ist die Basis für die performante Arbeit mit Daten in Python. Es stellt mehrdimensionale Arrays zur Verfügung, die sehr effizient sind und viele mächtige Operationen unterstützen. Wir beschränken uns im Folgenden auf Anwendungen zur Datenanalyse. NumPy bietet Performance auf dem Level von optimierten C/Fortran-Code mit der Einfachheit von Python."
   ]
  },
  {
   "cell_type": "markdown",
   "metadata": {},
   "source": [
    "<div class=\"alert alert-info\"><b>INFO</b>\n",
    "    <p>Die Übungen und Beispiele basieren auf Daten über \n",
    "    weltweite Systeme des öffentlichen Nahverkehrs von <a href=\"https://www.citylines.co\">https://www.citylines.co</a></p>\n",
    "</div>"
   ]
  },
  {
   "cell_type": "markdown",
   "metadata": {},
   "source": [
    "Im Folgenden erstellen wir ein zweidimensionales NumPy-Array. In den meisten Anwendungen werden die Daten aus einer Datei (z.B. csv oder Excel) oder Datenbank geladen. Die direkte Definition der Daten im Code ist jedoch häufig bei Programmierbeispielen zu finden, damit diese in sich abgeschlossen sind und keine weiteren Dateien benötigen."
   ]
  },
  {
   "cell_type": "code",
   "execution_count": null,
   "metadata": {},
   "outputs": [],
   "source": [
    "import numpy as np\n",
    "\n",
    "# Some data about cities from citylines.co\n",
    "# Columns: name, long, lat, start_year, country, length\n",
    "# length is the length of public transportation network in meters\n",
    "cities = np.array([\n",
    "          [\"Stockholm\", 18.05, 59.28333333, 1919, \"Sweden\", 132897],\n",
    "          [\"Sydney\", 151.2, -33.866667, 1858, \"Australia\", 355001],\n",
    "          [\"Singapore\", 103.833333, 1.283333, 1932, \"Singapore\", 270996],\n",
    "          [\"Vienna\", 16.33333333, 48.23333333, 1978, \"Austria\", 84970],\n",
    "          [\"Bilbao\", -2.953333, 43.262222, 1887, \"Spain\", 37105],\n",
    "          [\"Montpellier\", 3.869985716, 43.61039878, 1996, \"France\", 98675],\n",
    "          [\"Istanbul\", 28.955, 41.013611, 1989, \"Turkey\", 38096],\n",
    "          [\"Seoul\", 126.977966, 37.566536, 1971, \"South Korea\", 1418234],\n",
    "          [\"Chicago\", -87.61666667, 41.83333333, 1892, \"United States\", 176958],\n",
    "          [\"Cincinnati\", -84.5, 39.13333333, 1920, \"United States\", 31236],\n",
    "          [\"Dallas\", -96.76666667, 32.76666667, 1989, \"United States\", 125699],\n",
    "          [\"Denver\", -105, 39.75, 1994, \"United States\", 174131],\n",
    "          [\"Los Angeles\", -118.25, 34.05, 2017, \"United States\", 140077],\n",
    "          [\"Mexico City\", -99.11666667, 19.43333333, 1967, \"Mexico\", 446306],\n",
    "          [\"Munich\", 11.58333333, 48.13333333, 2017, \"Germany\", 176735],\n",
    "          [\"Naples\", 14.25, 40.83333333, 1976, \"Italy\", 22320],\n",
    "          [\"Madrid\", -3.7, 40.43333333, 1869, \"Spain\", 577574],\n",
    "          [\"London\", -0.08333333333, 51.53333333, 1833, \"England\", 1663529],\n",
    "          [\"Tokyo\", 139.75, 35.66666667, 1872, \"Japan\", 4770864]])\n"
   ]
  },
  {
   "cell_type": "markdown",
   "metadata": {},
   "source": [
    "Die Property `shape` gibt uns die Größe für alle Dimensionen (genannt `axes` in NumPy und Pandas):"
   ]
  },
  {
   "cell_type": "code",
   "execution_count": null,
   "metadata": {},
   "outputs": [],
   "source": [
    "cities.shape"
   ]
  },
  {
   "cell_type": "markdown",
   "metadata": {},
   "source": [
    "Das heißt wir haben 19 `rows` und 6 `columns` entsprechend 19 Beobachtungen mit je 6 Features. Dies entspricht 19 * 6  Einträgen - diesen Wert bekommen wir mit Hilfe von `cities.size`"
   ]
  },
  {
   "cell_type": "code",
   "execution_count": null,
   "metadata": {},
   "outputs": [],
   "source": [
    "cities.size"
   ]
  },
  {
   "cell_type": "markdown",
   "metadata": {},
   "source": [
    "Wir werden uns hauptsächlich mit zweidimensionalen und eindimensionalen Arrays beschäftigen, es sei erwähnt, dass n-dimensionale Arrays unterstützt werden, daher auch der Klassenname:"
   ]
  },
  {
   "cell_type": "code",
   "execution_count": null,
   "metadata": {},
   "outputs": [],
   "source": [
    "type(cities)"
   ]
  },
  {
   "cell_type": "markdown",
   "metadata": {},
   "source": [
    "## Zugriff auf Elemente in NumPy-Arrays\n",
    "\n",
    "Auf einzelne Werte im Array können mit `[]` zugreifen. Dabei stehen in den Klammern die Indizes für die einzelnen Dimensionen per Komma separiert. Es gibt verschiedene Möglichkeiten die Indizes anzugeben, z.B.:"
   ]
  },
  {
   "cell_type": "code",
   "execution_count": null,
   "metadata": {},
   "outputs": [],
   "source": [
    "# Zwei Integer, die die Position bestimmen\n",
    "print(cities[0,0])\n",
    "print(cities[1,1])\n",
    "\n",
    "# Negative Integer, die die Position vom Ende her bestimmen\n",
    "print(cities[-1,0])"
   ]
  },
  {
   "cell_type": "code",
   "execution_count": null,
   "metadata": {},
   "outputs": [],
   "source": [
    "# Nutzen von : als Platzhalter für alle Einträge entlang einer Dimension\n",
    "print(cities[0,:])\n",
    "print(cities[:,0])"
   ]
  },
  {
   "cell_type": "code",
   "execution_count": null,
   "metadata": {},
   "outputs": [],
   "source": [
    "# Nutzen von START:END, um Scheiben aus einer Dimension zu schneiden\n",
    "# Der START-Index ist inklusiv, der END-Index ist exklusiv:\n",
    "print(cities[0:2, :])"
   ]
  },
  {
   "cell_type": "code",
   "execution_count": null,
   "metadata": {},
   "outputs": [],
   "source": [
    "# Nutzen von Listen, die die gewünschten Indizes spezifieren:\n",
    "print(cities[:,[0,-2]])"
   ]
  },
  {
   "cell_type": "markdown",
   "metadata": {},
   "source": [
    "```{admonition} Aufgabe\n",
    "Selektieren Sie ein zweidimensionales Teilarray von cities, das die geographischen Koordinaten von allen Städten enthält.\n",
    "```"
   ]
  },
  {
   "cell_type": "code",
   "execution_count": null,
   "metadata": {},
   "outputs": [],
   "source": [
    "# "
   ]
  },
  {
   "cell_type": "markdown",
   "metadata": {},
   "source": [
    "```{admonition} Hinweis\n",
    "Rechts finden Sie einen Button, der die Lösung anzeigt\n",
    "```"
   ]
  },
  {
   "cell_type": "markdown",
   "metadata": {},
   "source": [
    "## Datentypen in NumPy-Arrays\n",
    "\n",
    "Bei der Ausgabe des Arrays fällt auf, dass Zahlen als Strings abgespeichert werden. Das liegt an einer Einschränkung von NumPy-Arrays: sie können nur einen Datentyp enthalten - dabei muss also einer gewählt werden, der alle Daten repräsentieren kann. Die Einschränkung hat technische Gründe, die mit der optimierten Speicherung und parallelen Verarbeitung von Daten durch NumPy zusammenhängt. Mit `.astype(np.float)` können wir ein Array z.B. in ein Array von Floating Point Zahlen umwandeln:"
   ]
  },
  {
   "cell_type": "code",
   "execution_count": null,
   "metadata": {},
   "outputs": [],
   "source": [
    "print('Informationen über ' + cities[0,0] + ':')\n",
    "print('- Länge des Netzes in Meter: ' + cities[0, -1])\n",
    "print('- Länge des Netzes in Kilometer: ' + str(cities[0, -1].astype(np.float64) / 1000.0))"
   ]
  },
  {
   "cell_type": "markdown",
   "metadata": {},
   "source": [
    "Mit Pandas werden wir eine Bibliothek kennenlernen, die das verwalten von mehreren NumPy-Arrays mit unterschiedlichen Typen erleichert. Für jetzt werden wir einfach mehrere Arrays anlegen:"
   ]
  },
  {
   "cell_type": "code",
   "execution_count": null,
   "metadata": {},
   "outputs": [],
   "source": [
    "names = cities[:,0]\n",
    "coords = cities[:, 1:3].astype(np.float64)\n",
    "start_years = cities[:,3].astype(np.int16)\n",
    "countries = cities[:,4]\n",
    "lengths = cities[:,5].astype(np.float64)"
   ]
  },
  {
   "cell_type": "markdown",
   "metadata": {},
   "source": [
    "So lange wir an den einzelnen Arrays nichts ändern und sie nicht umsortieren, können wir sicher sein, dass ein Index uns zusammengehörende Daten in den verschiedenen Arrays liefert:"
   ]
  },
  {
   "cell_type": "code",
   "execution_count": null,
   "metadata": {},
   "outputs": [],
   "source": [
    "print(names[14])\n",
    "print(countries[14])"
   ]
  },
  {
   "cell_type": "markdown",
   "metadata": {},
   "source": [
    "## Array-Operationen\n",
    "\n",
    "Die Stärke von NumPy liegt in vektorisierten Operationen. Diese arbeiten auf einem kompletten Array (oder einem ausgewählten Unterarray) statt auf einzelnen Einträgen. Die Verwendung dieser Operationen ist für imperative Programmier oft ungewohnt aber bietet zwei Vorteile:\n",
    "- Der Code ist oftmals kürzer und einfacher verständlich\n",
    "- NumPy kann die Ausführung optimieren, z.B. durch Multithreading oder Vektorbefehlen in der CPU\n",
    "\n",
    "Dies umfasst die typischen Rechnenbefehle, z.B.:"
   ]
  },
  {
   "cell_type": "code",
   "execution_count": null,
   "metadata": {},
   "outputs": [],
   "source": [
    "# Zahlen-Array mit Skalar verbinden\n",
    "a = np.array([1,2,3,4])\n",
    "a * 2"
   ]
  },
  {
   "cell_type": "code",
   "execution_count": null,
   "metadata": {},
   "outputs": [],
   "source": [
    "a - 1"
   ]
  },
  {
   "cell_type": "code",
   "execution_count": null,
   "metadata": {},
   "outputs": [],
   "source": [
    "# Zwei Zahlen-Arrays kombinieren\n",
    "b = np.array([11, 12, 13, 14])\n",
    "b - a"
   ]
  },
  {
   "cell_type": "code",
   "execution_count": null,
   "metadata": {},
   "outputs": [],
   "source": [
    "# Kompexere Berechnungen:\n",
    "temp_celcius = np.array([0, 20, 40, 100])\n",
    "temp_fahrenheit = temp_celcius * 9.0/5.0 + 32.0\n",
    "temp_fahrenheit"
   ]
  },
  {
   "cell_type": "markdown",
   "metadata": {},
   "source": [
    "NumPy bietet auch eine große Anzahl von Funktionen, die über ein gesamtes Array berechnet werden, z.B.:"
   ]
  },
  {
   "cell_type": "code",
   "execution_count": null,
   "metadata": {},
   "outputs": [],
   "source": [
    "a.sum()"
   ]
  },
  {
   "cell_type": "code",
   "execution_count": null,
   "metadata": {},
   "outputs": [],
   "source": [
    "a.mean()"
   ]
  },
  {
   "cell_type": "markdown",
   "metadata": {},
   "source": [
    "Der Performance-Vorteil zeigt sich vor allem bei großen Datenmengen:"
   ]
  },
  {
   "cell_type": "code",
   "execution_count": null,
   "metadata": {},
   "outputs": [],
   "source": [
    "# Erstelle Array mit 10 Mio zufälliger Zahlen\n",
    "r = np.random.rand(10000000)"
   ]
  },
  {
   "cell_type": "code",
   "execution_count": null,
   "metadata": {},
   "outputs": [],
   "source": [
    "%%timeit\n",
    "# Bilde die Summe über alle Zahlen mit klassischer Programmierung:\n",
    "total = 0.0\n",
    "for number in r:\n",
    "    total += number\n",
    "total"
   ]
  },
  {
   "cell_type": "code",
   "execution_count": null,
   "metadata": {},
   "outputs": [],
   "source": [
    "%%timeit\n",
    "# Summe mit Array-basierter Operation\n",
    "r.sum()"
   ]
  },
  {
   "cell_type": "markdown",
   "metadata": {},
   "source": [
    "Je nach Hardware zeigt sich eine unterschiedliche Performance - in meinem Beispiel ein Speedup um Faktor >200."
   ]
  },
  {
   "cell_type": "markdown",
   "metadata": {},
   "source": [
    "```{admonition} Aufgabe\n",
    "Nutzen Sie vektorisierte Array-Operationen für die folgenden Aufgaben:\n",
    "- Konvertieren Sie die Länge der Streckennetze von Metern in Kilometer\n",
    "- Berechnen Sie das Alter der Liniennetze in Jahren für jede Stadt\n",
    "- Finden Sie das längste und älteste Liniennetz\n",
    "```\n",
    "\n",
    "<div class=\"alert alert-warning\">\n",
    "<b>ÜBUNG:</b> Array-Operationen\n",
    "    <p>Nutzen Sie vektorisierte Array-Operationen für die folgenden Aufgaben:</p>\n",
    "        <ul>\n",
    "            <li>Konvertieren Sie die Länge der Streckennetze von Metern in Kilometer</li>\n",
    "            <li>Berechnen Sie das Alter der Liniennetze in Jahren für jede Stadt</li>\n",
    "            <li>Finden Sie das längste und älteste Liniennetz</li></ul>\n",
    "</div>"
   ]
  },
  {
   "cell_type": "code",
   "execution_count": null,
   "metadata": {},
   "outputs": [],
   "source": [
    "# "
   ]
  },
  {
   "cell_type": "markdown",
   "metadata": {},
   "source": [
    "Rechts finden Sie einen Button, der die Lösung anzeigt (nicht im Übungsblatt)."
   ]
  },
  {
   "cell_type": "markdown",
   "metadata": {},
   "source": [
    "## Suchen und Filtern\n",
    "\n",
    "Um zu suchen stehen die Funktionen `np.argmax`, `np.argmin`, `np.argwhere` zur Verfügung, die den Index/die Indizes liefern, wo der größte, kleinste, bzw. einer Bedingung entsprechende Wert im Array steht. Beachten Sie, dass wir alle Arrays so angelegt haben, dass sie die gleiche Reihenfolge haben. Das heißt wir können mit den Indizes aus einem Array auf ein anderes zugreifen."
   ]
  },
  {
   "cell_type": "code",
   "execution_count": null,
   "metadata": {},
   "outputs": [],
   "source": [
    "np.argmin(start_years)"
   ]
  },
  {
   "cell_type": "code",
   "execution_count": null,
   "metadata": {},
   "outputs": [],
   "source": [
    "names[17]"
   ]
  },
  {
   "cell_type": "code",
   "execution_count": null,
   "metadata": {},
   "outputs": [],
   "source": [
    "countries[np.argwhere(names == 'Munich')]"
   ]
  },
  {
   "cell_type": "markdown",
   "metadata": {},
   "source": [
    "Das letzte Beispiel mag naheliegend sein, weil wir die Positionen suchen, wo Name gleich \"Munich\" ist und dann mit diesen Positionen auf das Ländernamen-Array zugreifen. Es ist aber umständlich. Betrachten wir zunächsten den verwendeten Ausdruck"
   ]
  },
  {
   "cell_type": "code",
   "execution_count": null,
   "metadata": {},
   "outputs": [],
   "source": [
    "names == 'Munich'"
   ]
  },
  {
   "cell_type": "markdown",
   "metadata": {},
   "source": [
    "Wie wir sehen liefert dieser Ausdruck ein NumPy-Array zurück mit folgenden Eigenschaften:\n",
    "- Gleiche Länge, wie das `names`-Array (und damit wie alle anderen Daten-Arrays, die wir erzeugt haben)\n",
    "- Datentyp der Werte ist Boolean\n",
    "- Die Werte sind überall `False` außer an den Indizes, wo die Bedingung, die wir auf das gesamte Array angewandt haben (`names == 'Munich'`) auf den entsprechenden Wert im Array zutreffen, d.h. dort wo `names[i] == 'Munich'`\n",
    "\n",
    "Das können wir fürs Filtern verwenden, da NumPy eine weitere Indizierung erlaubt: mit Boolean-Arrays. Es wird ein Array zurückgeliefert, das nur die Werte enthält, wo das für die Indizierung verwendete Boolean-Array `True` ist.\n",
    "\n",
    "Beispiele:"
   ]
  },
  {
   "cell_type": "code",
   "execution_count": null,
   "metadata": {},
   "outputs": [],
   "source": [
    "filt_munich = names == 'Munich'\n",
    "countries[filt_munich]"
   ]
  },
  {
   "cell_type": "code",
   "execution_count": null,
   "metadata": {},
   "outputs": [],
   "source": [
    "names[start_years < 1950]"
   ]
  },
  {
   "cell_type": "markdown",
   "metadata": {},
   "source": [
    "Filter-Bedingungen sind somit nur Boolean-Arrays, die mit ensprechenden Boolean-Operatoren transformiert werden können:\n",
    "- `a & b` ergibt ein logisches Und, d.h. das Ergebnis ist ein Boolean-Array, das nur dort `True` ist, wo sowohl `a` als auch `b` `True` sind\n",
    "- `a | b` ergibt ein logisches Oder\n",
    "- `~a` ist ein Boolean-Array mit den logische negierten Werten aus `a`"
   ]
  },
  {
   "cell_type": "code",
   "execution_count": null,
   "metadata": {},
   "outputs": [],
   "source": [
    "# Alle Städte außer München:\n",
    "names[~filt_munich]"
   ]
  },
  {
   "cell_type": "markdown",
   "metadata": {},
   "source": [
    "Neben der Gleichheit per `==` können noch weitere Bedingungen z.B. mit `<`, `<=`, `>`, `>=` geprüft werden."
   ]
  },
  {
   "cell_type": "markdown",
   "metadata": {},
   "source": [
    "<div class=\"alert alert-warning\">\n",
    "<b>ÜBUNG:</b> Selektion\n",
    "    <p>Geben Sie alle Städte aus, die (a) eine Netzlänge von über 500km haben und (b) nicht in Japan sind.</p>\n",
    "</div>"
   ]
  },
  {
   "cell_type": "code",
   "execution_count": null,
   "metadata": {},
   "outputs": [],
   "source": [
    "#"
   ]
  },
  {
   "cell_type": "markdown",
   "metadata": {},
   "source": [
    "## Abschluss\n",
    "\n",
    "Wir werden NumPy vor allem als Grundlage für weitergehende Bibliotheken (Pandas, Matplotlib, scikit-learn) nutzen. Pandas gibt uns unter anderem eine Möglichkeit mehrere NumPy-Arrays unterschiedlicher Datentypen in einer Datenstruktur (DataFrame) zu verwalten. Dies ist insbesondere bei Sortierungen und Filterungen hilfreich.\n",
    "\n",
    "NumPy bietet darüber hinaus noch weitere Möglichkeiten und ist die Basis für viele weitere Anwendungen, wenn es um hochperformante Berechnungen geht.\n",
    "\n",
    "Das NumPy-Projekt bietet eine gute weiterführende Dokumentation:\n",
    "- User Guide: https://numpy.org/doc/stable/user/index.html\n",
    "- API Referenz: https://numpy.org/doc/stable/reference/index.html"
   ]
  }
 ],
 "metadata": {
  "celltoolbar": "Tags",
  "interpreter": {
   "hash": "ac2eaa0ea0ebeafcc7822e65e46aa9d4f966f30b695406963e145ea4a91cd4fc"
  },
  "kernelspec": {
   "display_name": "Python 3 (ipykernel)",
   "language": "python",
   "name": "python3"
  },
  "language_info": {
   "codemirror_mode": {
    "name": "ipython",
    "version": 3
   },
   "file_extension": ".py",
   "mimetype": "text/x-python",
   "name": "python",
   "nbconvert_exporter": "python",
   "pygments_lexer": "ipython3",
   "version": "3.8.1"
  }
 },
 "nbformat": 4,
 "nbformat_minor": 2
}
