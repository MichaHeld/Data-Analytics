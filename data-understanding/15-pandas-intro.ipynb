{
 "cells": [
  {
   "cell_type": "markdown",
   "id": "7b2d6145",
   "metadata": {},
   "source": [
    "# Einführung in pandas\n",
    "\n",
    "pandas ist eine mächtige Bibliothek für die Arbeit mit heterogenen Daten in tabellenartiger Form. In pandas können wir Daten laden, säubern, transformieren, aggregieren und analysieren. Diese Schritte kommen vor der weiteren Verarbeitung in Machine Learning Algorithmen oder der weitergehenden Visualisierung. Das Ergebnis eines pandas-Programms ist häufig ein homogenes NumPy-Array mit numerischen Werten. Gemeinsam mit NumPy ist der array-basierte Ansatz - eine For-Schleife über die Reihen eines Datensatzes verstößt mit hoher Wahrscheinlichkeit gegen Best Practices. \n",
    "\n",
    "Um pandas in Python zu nutzen bietet es sich an der Standard-Konvention zu folgen und es als `pd` zu importieren:"
   ]
  },
  {
   "cell_type": "code",
   "execution_count": null,
   "id": "684efa26",
   "metadata": {},
   "outputs": [],
   "source": [
    "import pandas as pd"
   ]
  },
  {
   "cell_type": "markdown",
   "id": "4512a237",
   "metadata": {},
   "source": [
    "<div class=\"alert alert-info\"><b>INFO</b>\n",
    "    <p>Die Übungen und Beispiele basieren auf Daten über \n",
    "    weltweite Systeme des öffentlichen Nahverkehrs von <a href=\"https://www.citylines.co\">https://www.citylines.co</a></p>\n",
    "</div>"
   ]
  },
  {
   "cell_type": "markdown",
   "id": "9bd685b4",
   "metadata": {},
   "source": [
    "## pandas Series\n",
    "\n",
    "Die grundlegende Datenstruktur in pandas ist die Series: eine eindimensionale Datenstruktur ähnlich eines eindimensionalen Arrays: "
   ]
  },
  {
   "cell_type": "code",
   "execution_count": null,
   "id": "c0dfba4f",
   "metadata": {},
   "outputs": [],
   "source": [
    "countries = pd.Series(['Sweden', 'Australia', 'Singpaore', 'Austria'])\n",
    "countries"
   ]
  },
  {
   "cell_type": "markdown",
   "id": "38d2e343",
   "metadata": {},
   "source": [
    "Links neben den Einträgen sehen wir den Index - da wir nichts anderes angegeben haben, werden ähnlich wie beim Array die ganzen Zahlen aufsteigend nummeriert von 0 an genommen. Mit `.values` können wir das NumPy-Array einer Series abfragen:"
   ]
  },
  {
   "cell_type": "code",
   "execution_count": null,
   "id": "8573135e",
   "metadata": {},
   "outputs": [],
   "source": [
    "countries.values"
   ]
  },
  {
   "cell_type": "code",
   "execution_count": null,
   "id": "fb074130",
   "metadata": {},
   "outputs": [],
   "source": [
    "type(countries.values)"
   ]
  },
  {
   "cell_type": "markdown",
   "id": "74eeb598",
   "metadata": {},
   "source": [
    "Mit `.index` können wir auf den Index der Series zugreifen. Mit `[]` können wir per Index auf einzelne Elemente der Series zugreifen."
   ]
  },
  {
   "cell_type": "code",
   "execution_count": null,
   "id": "30c7270e",
   "metadata": {},
   "outputs": [],
   "source": [
    "countries.index"
   ]
  },
  {
   "cell_type": "code",
   "execution_count": null,
   "id": "7511242b",
   "metadata": {},
   "outputs": [],
   "source": [
    "countries.index.values"
   ]
  },
  {
   "cell_type": "code",
   "execution_count": null,
   "id": "3b1e1eec",
   "metadata": {},
   "outputs": [],
   "source": [
    "countries[0]"
   ]
  },
  {
   "cell_type": "markdown",
   "id": "bc7b4430",
   "metadata": {},
   "source": [
    "Anders als die Indizes eines Arrays bleiben die Indizes einer Series auch bei Selektionen erhalten:"
   ]
  },
  {
   "cell_type": "code",
   "execution_count": null,
   "id": "de22d77b",
   "metadata": {},
   "outputs": [],
   "source": [
    "countries[2:3]"
   ]
  },
  {
   "cell_type": "code",
   "execution_count": null,
   "id": "0571cd73",
   "metadata": {},
   "outputs": [],
   "source": [
    "countries[[0,2]]"
   ]
  },
  {
   "cell_type": "markdown",
   "id": "8e3c4225",
   "metadata": {},
   "source": [
    "Ebenso können ähnlich wie beim `dict` andere Index-Elemente gesetzt werden, z.B."
   ]
  },
  {
   "cell_type": "code",
   "execution_count": null,
   "id": "39648ebc",
   "metadata": {},
   "outputs": [],
   "source": [
    "countries = pd.Series(['Sweden', 'Australia', 'Singapore', 'Austria'],\n",
    "                index=['Stockholm', 'Sydney', 'Singapore', 'Vienna'])\n",
    "countries"
   ]
  },
  {
   "cell_type": "markdown",
   "id": "a86b4d5b",
   "metadata": {},
   "source": [
    "Bei nicht-numerischen Index ist die Range-Selection über `:` sowohl bei Start als auch Ende inklusive:"
   ]
  },
  {
   "cell_type": "code",
   "execution_count": null,
   "id": "1f1d6973",
   "metadata": {},
   "outputs": [],
   "source": [
    "countries['Stockholm':'Singapore']"
   ]
  },
  {
   "cell_type": "markdown",
   "id": "4a1203d5",
   "metadata": {},
   "source": [
    "Series können wie NumPy-Arrays miteinander kombiniert werden, dabei werden einzelne Werte über die Indizes gematcht, z.B.: "
   ]
  },
  {
   "cell_type": "code",
   "execution_count": null,
   "id": "e07c7ee1",
   "metadata": {},
   "outputs": [],
   "source": [
    "# Erstelle Series mit anderer Reihenfolge und einem Datensatz weniger\n",
    "continents = pd.Series(['Europe', 'Europe', 'Asia'],\n",
    "                      index=['Vienna', 'Stockholm', 'Singapore'])\n",
    "# Kombiniere Series countries mit continents per String-Konkatenation\n",
    "countries + ', ' + continents"
   ]
  },
  {
   "cell_type": "markdown",
   "id": "a27e3ba9",
   "metadata": {},
   "source": [
    "Series bieten neben den aus NumPy bekannten Funktionen (z.B. `max`, `min`) noch viele weitere: https://pandas.pydata.org/docs/reference/series.html\n",
    "\n",
    "Zum Beispiel kann mit dem `str`-Accessor auf viele String-Funktionen zurückgegriffen werden:"
   ]
  },
  {
   "cell_type": "code",
   "execution_count": null,
   "id": "e8c4763f",
   "metadata": {},
   "outputs": [],
   "source": [
    "countries.str.startswith('S')"
   ]
  },
  {
   "cell_type": "markdown",
   "id": "3ff44d2c",
   "metadata": {},
   "source": [
    "Das Ergebnis der vorherigen Operation ist wiederum eine Series mit dem gleichen Index und Boolean-Werten. Diese Series kann nun wiederum als Index für ein Array mit gleichen Indizes verwendet werden:"
   ]
  },
  {
   "cell_type": "code",
   "execution_count": null,
   "id": "90fcaa0c",
   "metadata": {},
   "outputs": [],
   "source": [
    "countries[countries.str.startswith('S')]"
   ]
  },
  {
   "cell_type": "code",
   "execution_count": null,
   "id": "a6f8e966",
   "metadata": {},
   "outputs": [],
   "source": [
    "filt_s = countries.str.startswith('S')\n",
    "continents[filt_s]"
   ]
  },
  {
   "cell_type": "markdown",
   "id": "237bf50d",
   "metadata": {},
   "source": [
    "## pandas DataFrame\n",
    "\n",
    "Ein `DataFrame` bündelt mehrere `Series` in eine tabellarische Datenstruktur zusammen. Jede `Series` wird unter einem Label (Spaltenname) abgelegt und beinhaltet die Wert einer Spalte. Die Series haben im Normalfall den gleichen Index (oder zumindest überschneidend). Die Werte aus den unterschiedlichen Series mit dem gleichen Index bilden eine Reihe.\n",
    "Ein DataFrame kann z.B. über ein dict erstellt werden - key ist der Spaltenname, value die Series mit den Werten:"
   ]
  },
  {
   "cell_type": "code",
   "execution_count": null,
   "id": "ccd68a4d",
   "metadata": {},
   "outputs": [],
   "source": [
    "df = pd.DataFrame({\"country\": countries, \"continent\": continents})\n",
    "df"
   ]
  },
  {
   "cell_type": "markdown",
   "id": "dfce7fbb",
   "metadata": {},
   "source": [
    "Es gibt zahlreiche weitere Konstruktoren für DataFrames, z.B. basierend auf Arrays, Dicts. Siehe https://pandas.pydata.org/docs/user_guide/dsintro.html#dataframe\n",
    "\n",
    "Wir werden meist DataFrames aus Dateien laden. Diese können in unterschiedlichen Formaten sein (z.B. csv, Excel, JSON) und sowohl auf dem lokalen Dateisystem als auch auf einem Webserver liegen. Siehe https://pandas.pydata.org/docs/user_guide/io.html"
   ]
  },
  {
   "cell_type": "code",
   "execution_count": null,
   "id": "ab1ff97c",
   "metadata": {},
   "outputs": [],
   "source": [
    "# Read city data direkt von citylines.co\n",
    "# cities = pd.read_csv(\"https://data.heroku.com/dataclips/wmeilvvkgqrderovlbhfbktsnxlm.csv\")\n",
    "# Wir lesen aus einer lokal gecachten Version, um den gleichen\n",
    "# Datenstand für Skript und Übungen festzuhalten\n",
    "cities = pd.read_csv(\"data/cities.csv\")"
   ]
  },
  {
   "cell_type": "code",
   "execution_count": null,
   "id": "99826b08",
   "metadata": {},
   "outputs": [],
   "source": [
    "# Jupyer Notebook stellt DataFrames in einer gewohnten tabellarischen Ansicht dar\n",
    "cities"
   ]
  },
  {
   "cell_type": "code",
   "execution_count": null,
   "id": "8d54e2b2",
   "metadata": {},
   "outputs": [],
   "source": [
    "# Da DataFrames oftmals sehr viele Zeilen haben bietet sich die head-Methode an\n",
    "# Sie zeigt die ersten n Zeilen an - Default-Wert ist n=5\n",
    "cities.head(10)"
   ]
  },
  {
   "cell_type": "markdown",
   "id": "c7947399",
   "metadata": {},
   "source": [
    "pandas hat beim Einlesen automatisch einen numerischen Index vergeben (ganz linke Spalte ohne Spaltenname). Im Datensatz ist jedoch eine schon eine Spalte \"id\" vorhanden, die als Index dienen kann. Im Prinzip könnten wir auch den Namen der Städte als Index setzen, aber wenn wir die Stadttabelle mit weiteren Tabellen verknüpfen wollen wird dort die city id als Schlüssel verwendet. Mit set_index können wir eine Spalte des DataFrames als Index setzen. Wie die meisten anderen transformativen Methoden auf einem DataFrame verändert die set_index Methode standardmäßig das DataFrame nicht, sondern generiert ein neues. Dies können wir übernehmen, indem wir den inplace=True Parameter setzen oder das neue generierte DataFrame wiederum in der ursprünglichen Variable speichern."
   ]
  },
  {
   "cell_type": "code",
   "execution_count": null,
   "id": "a7f2b544",
   "metadata": {},
   "outputs": [],
   "source": [
    "# Erzeugt ein neues DataFrame mit der Spalte id als Index\n",
    "cities.set_index('id').head()"
   ]
  },
  {
   "cell_type": "code",
   "execution_count": null,
   "id": "d6baad2d",
   "metadata": {},
   "outputs": [],
   "source": [
    "# Das DataFrame cities ist unverändert:\n",
    "cities.head()"
   ]
  },
  {
   "cell_type": "code",
   "execution_count": null,
   "id": "552dde58",
   "metadata": {},
   "outputs": [],
   "source": [
    "# Die Änderung übernehmen können wir entweder (nur eins funktioniert - danach\n",
    "# ist der Index schon gesetzt und die Spalte id nicht mehr vorhanden, daher\n",
    "# ist Option 1 auskommentiert\n",
    "# Option 1: Abspeichern des transformierten DataFrames in der ursprünglichen Variable\n",
    "# cities = cities.set_index('id')\n",
    "# Option 2: inplace=True Parameter bestimmt, dass das DataFrame verändert werden soll\n",
    "cities.set_index('id', inplace=True)"
   ]
  },
  {
   "cell_type": "markdown",
   "id": "90fabdee",
   "metadata": {},
   "source": [
    "Beachten Sie, dass Operationen mit inplace=True keinen Rückgabewert haben. Das sehen Sie daran, dass im Jupyter Notebook nichts angezeigt wird."
   ]
  },
  {
   "cell_type": "markdown",
   "id": "3e44c1f6",
   "metadata": {},
   "source": [
    "## Selektionen\n",
    "\n",
    "Auf einzelne Spalten (Series) kann per `[spalten_name]` zugegriffen werden."
   ]
  },
  {
   "cell_type": "code",
   "execution_count": null,
   "id": "f330a239",
   "metadata": {},
   "outputs": [],
   "source": [
    "cities['name']"
   ]
  },
  {
   "cell_type": "markdown",
   "id": "c4474381",
   "metadata": {},
   "source": [
    "Alternativ für Namen ohne Leer- und Sonderzeichen kann auch per `.spalten_name` zugegriffen werden - wir vermeiden das im Folgenden aber Sie werden es häufig in Beispiel-Code finden."
   ]
  },
  {
   "cell_type": "code",
   "execution_count": null,
   "id": "a8cd58b2",
   "metadata": {},
   "outputs": [],
   "source": [
    "cities.name"
   ]
  },
  {
   "cell_type": "markdown",
   "id": "fbc19a27",
   "metadata": {},
   "source": [
    "Ähnlich wie bei Series können Selektionen mit `[]` durchgeführt werden. Da pandas hier gemäß einer Logik erschließt, ob Selektionen auf Spaltennamen, Zeilen-Labels (aus dem Index) oder Zeilen-Positionen gewünscht sind, kommt es manchmal zu unerwünschten Ergebnissen, insbesondere bei Spaltennamen die Zahlen sind. Beispiel: "
   ]
  },
  {
   "cell_type": "code",
   "execution_count": null,
   "id": "8c00d1ec",
   "metadata": {},
   "outputs": [],
   "source": [
    "# DataFrame mit Zahlen als Index-Labels und Spaltennamen\n",
    "df = pd.DataFrame({0: [1, 2, 3], 1: [4, 5, 6], 2: [7, 8, 9]}, index=[1, 2, 3])\n",
    "df"
   ]
  },
  {
   "cell_type": "code",
   "execution_count": null,
   "id": "aecd4a75",
   "metadata": {},
   "outputs": [],
   "source": [
    "# Zugriff auf eine Spalte mit []\n",
    "df[0]"
   ]
  },
  {
   "cell_type": "code",
   "execution_count": null,
   "id": "15759e1f",
   "metadata": {},
   "outputs": [],
   "source": [
    "# Zugriff auf Zeile per Label-Slice mit []\n",
    "df[0:1]"
   ]
  },
  {
   "cell_type": "markdown",
   "id": "8f132152",
   "metadata": {},
   "source": [
    "Um Missverständnisse zu vermeiden, verwenden wir folgende Zugriffe auf ein DataFrame df:\n",
    "- `df[spalten]` Zugriff auf einzelne Spalte (Series) oder Spalten (DataFrame) per Spaltenname(n)\n",
    "- `df[boolean_series]` um auf alle Zeilen zuzugreifen, deren Index in `boolean_series` vorkommen und dort den Wert `True` haben\n",
    "- `df.loc[zeilen]`: Zugriff auf einzelne Zeile oder Zeilen per Label(s)\n",
    "- `df.loc[zeilen,spalten]`: Zugriff auf Zeilen und Spalten per Label(s) und Spaltenname(n)\n",
    "- `df.iloc[zeilen]`: Zugriff auf einzelne Zeile oder Zeilen per Integer-Positionen\n",
    "- `df.iloc[zeilen,spalten]`: Zugriff auf Zeilen und Spalten per Integer-Positionen\n",
    "\n",
    "\n",
    "Um Spalten, Zeilen auszuwählen gibt es 3 Möglichkeiten:\n",
    "- Einzelner Wert (Spaltenname, Index-Label, Integer-Position): selektiert genau diesen Wert\n",
    "- Liste von Spaltennamen, Index-Labeln, Integer-Positionen: selektiert, wenn Wert in Liste\n",
    "- Slices mit `start:ende`: selektiert zusammenhängenden Bereich zwischen `start` und `ende`\n",
    "    - wenn `start` weggelassen wird, dann wird der erste Wert eingesetzt\n",
    "    - wenn `ende` weggelassen wird, dann wird der letzte Wert eingesetzt\n",
    "    - wenn beides weggelassen wird, wird der gesamte Bereich selektiert\n",
    "    \n",
    "Beispiele:"
   ]
  },
  {
   "cell_type": "code",
   "execution_count": null,
   "id": "5c811a7d",
   "metadata": {},
   "outputs": [],
   "source": [
    "# Einzelne Spalte als Series\n",
    "cities['name']"
   ]
  },
  {
   "cell_type": "code",
   "execution_count": null,
   "id": "c6ccc67e",
   "metadata": {},
   "outputs": [],
   "source": [
    "# DataFrame mit den Spalten in der Liste (in der angegeben Reihenfolge)\n",
    "cities[['country', 'name']].head()"
   ]
  },
  {
   "cell_type": "code",
   "execution_count": null,
   "id": "4dbc9b99",
   "metadata": {},
   "outputs": [],
   "source": [
    "# Boolean-Series (Ergebnis einer Series Operation)\n",
    "cities[cities['start_year'] < 1821]"
   ]
  },
  {
   "cell_type": "code",
   "execution_count": null,
   "id": "c8f10437",
   "metadata": {},
   "outputs": [],
   "source": [
    "# Auswahl per Label-Ranges sowohl bei Zeilen als auch Spalten\n",
    "cities.loc[300:305, 'start_year':'country']"
   ]
  },
  {
   "cell_type": "code",
   "execution_count": null,
   "id": "6f6d956c",
   "metadata": {},
   "outputs": [],
   "source": [
    "# Selektiere die letzten beiden Zeilen und geraden Spaltennummern\n",
    "cities.iloc[-3:-1,[0, 2, 4, 6]]"
   ]
  },
  {
   "cell_type": "markdown",
   "id": "4f2719a0",
   "metadata": {},
   "source": [
    "<div class=\"alert alert-warning\">\n",
    "<b>ÜBUNG:</b> DataFrames and Series\n",
    "    <p>Geben Sie alle Städte aus, die (a) eine Netzlänge von über 500km haben und (b) nicht in Japan sind.\n",
    "    Beachten Sie, dass die Spalten des DataFrames wiederum Series sind. Dabei sollen neben dem Stadtnamen auch die Start-Jahr, das Land und die Länge ausgegeben werden</p>\n",
    "</div>"
   ]
  },
  {
   "cell_type": "code",
   "execution_count": null,
   "id": "1c4aeb0c",
   "metadata": {},
   "outputs": [],
   "source": [
    "#"
   ]
  },
  {
   "cell_type": "markdown",
   "id": "0bc08916",
   "metadata": {},
   "source": [
    "## Werte zuweisen\n",
    "\n",
    "Sämtliche Zugriffsarten liefern eine `View` auf das originale DataFrame. Das heißt, dass Änderungen auf der View auch im DatenFrame wiederzufinden sind. Eine Zuweisung funktioniert auch, wenn die Selektion bisher nicht im DataFrame vorhanden ist.\n",
    "\n",
    "Beispiele:\n",
    "\n",
    "\n",
    "\n"
   ]
  },
  {
   "cell_type": "code",
   "execution_count": null,
   "id": "0d4505dc",
   "metadata": {},
   "outputs": [],
   "source": [
    "df = pd.DataFrame({'a': [1, 2, 3], 'b': [4, 5, 6], 'c': [7, 8, 9]})\n",
    "df"
   ]
  },
  {
   "cell_type": "code",
   "execution_count": null,
   "id": "e330bac4",
   "metadata": {},
   "outputs": [],
   "source": [
    "# Neue Spalte\n",
    "df['d'] = [10, 11, 12]\n",
    "df"
   ]
  },
  {
   "cell_type": "code",
   "execution_count": null,
   "id": "08dcf357",
   "metadata": {},
   "outputs": [],
   "source": [
    "# Zuweisung für zweidimensional selektierten Bereich\n",
    "df.loc[0:1, 'a':'b'] = [[100, 101], [102, 103]]\n",
    "df"
   ]
  },
  {
   "cell_type": "markdown",
   "id": "b0fbfa9e",
   "metadata": {},
   "source": [
    "Wenn einer bestimmten Selektion ein Skalar oder ein Array von kleinerer Dimension zugewiesen wird, dann versucht pandas per `Broadcasting` die entsprechende Zuordnung vorzunehmen. Wir verwenden das vor allem, wenn wir einer Spalte einen konstanten Wert zuweisen wollen, z.B."
   ]
  },
  {
   "cell_type": "code",
   "execution_count": null,
   "id": "1f53f238",
   "metadata": {},
   "outputs": [],
   "source": [
    "df['e'] = 1001\n",
    "df"
   ]
  },
  {
   "cell_type": "markdown",
   "id": "b43fae5f",
   "metadata": {},
   "source": [
    "<div class=\"alert alert-warning\">\n",
    "<b>ÜBUNG:</b> DataFrames Werte zuweisen\n",
    "    <p>Fügen Sie drei neue Spalten zum cities DataFrame hinzu:\n",
    "    <ol><li>age: Alter des Schienennetzes (aktuelles Jahr - start_year). Die Spalte soll direkt nach der start_year Spalte eingefügt werden. Nutzen Sie dazu die <a href=\"https://pandas.pydata.org/docs/reference/api/pandas.DataFrame.insert.html\">insert</a> Methode des DataFrames</li>\n",
    "        <li>length_km: Länge des Liniennetzes in km statt in Metern. Nutzen Sie danach die <a href=\"https://pandas.pydata.org/docs/reference/api/pandas.DataFrame.drop.html?highlight=drop#pandas.DataFrame.drop\">drop</a> Methode um die Spalte length zu löschen</li>\n",
    "        <li>status: 'planning', wenn die Länge 0 ist, sonst abhängig vom Startjahr 'new' (>= 2000), 'medium' (>= 1950), 'old' (ansonsten)</li><ol>\n",
    "</div>"
   ]
  },
  {
   "cell_type": "code",
   "execution_count": null,
   "id": "59866abe",
   "metadata": {},
   "outputs": [],
   "source": [
    "#"
   ]
  },
  {
   "cell_type": "markdown",
   "id": "0db4bc4c",
   "metadata": {},
   "source": [
    "## Beispiel Data Wrangling \n",
    "\n",
    "Eine Hauptaufgabe von pandas ist die Daten aus diversen Input-Formaten in das passende Output-Format zu bringen. Unser bisheriger Datensatz ist recht wohlgeformt aber in der Praxis sind die Input-Formate häufig recht schwer auslesbar und es muss mit den Daten gerangelt/gestritten werden, um sie ins richtige Format zu bringen - daher der Begriff Data Wrangling.\n",
    "\n",
    "In unserem Datensatz müssen wir uns um die Spalte coords kümmern, die lattitude und longitude zusammengepackt in String-Form enthält. Wir werden schrittweise vorgehen:"
   ]
  },
  {
   "cell_type": "code",
   "execution_count": null,
   "id": "cbd82910",
   "metadata": {},
   "outputs": [],
   "source": [
    "# Entfernen von POINT und den Klammern\n",
    "# Der str-Accessor der coords-Series bietet entsprechende Funktionen\n",
    "\n",
    "# Per Slice mit Integer-Positionen\n",
    "cities['coords'].str.slice(6,-2)"
   ]
  },
  {
   "cell_type": "code",
   "execution_count": null,
   "id": "1cfa1d99",
   "metadata": {},
   "outputs": [],
   "source": [
    "# Per Ersetzen\n",
    "cities['coords'].str.replace(pat='POINT(',repl='',regex=False).str.replace(pat=')',repl='', regex=False)"
   ]
  },
  {
   "cell_type": "code",
   "execution_count": null,
   "id": "590c1134",
   "metadata": {},
   "outputs": [],
   "source": [
    "# Beide Ergebnisse beinhalten nun beide Koordinaten per Leerzeichen getrennt\n",
    "# Hier hilft uns die str.split Methode weiter:\n",
    "cities['coords'].str.slice(6,-2).str.split(' ', expand=True)"
   ]
  },
  {
   "cell_type": "code",
   "execution_count": null,
   "id": "b4b76bcf",
   "metadata": {},
   "outputs": [],
   "source": [
    "# Beide Schritte inklusive Benennung der Spalten, können auch\n",
    "# per Regular-Expression Matching durchgeführt werden\n",
    "cities['coords'].str.extract(r'(?P<long>[-+0-9.]+) (?P<lat>[-+0-9.]+)')"
   ]
  },
  {
   "cell_type": "markdown",
   "id": "4bbeebd7",
   "metadata": {},
   "source": [
    "Das Ergebnis der letzten Operation ist ein DataFrame mit den zwei neuen Spalten lat und long mit dem passenden Index zu unserem cities DataFrame. Um nun beide DataFrames in eins zu packen verwenden wir die <a href=\"https://pandas.pydata.org/docs/reference/api/pandas.concat.html\">pd.concat</a> Funktion. Die Funktion hat viele Möglichkeiten, wir nutzen Sie, um zwei DataFrames \"nebeneinander\" zu setzen, so dass das neue DataFrame die Spalten beider DataFrames besitzt. Die Funktion verändert die übergebenen DataFrames nicht, sondern liefert ein neues DataFrame zurück."
   ]
  },
  {
   "cell_type": "markdown",
   "id": "0a24fa3c",
   "metadata": {},
   "source": [
    "<div class=\"alert alert-warning\">\n",
    "<b>ÜBUNG:</b> DataFrames kombinieren\n",
    "    <p>\n",
    "    <ol><li>Speichern Sie das Ergebnis der obigen Operation mit den extrahierten lat und long Spalten in eine neue DataFrame-Variable</li>\n",
    "        <li>Wandeln Sie Datentypen der lat und long Spalten auf float</li>\n",
    "        <li>Nutzen Sie pd.concat, um dieses DataFrame \"rechts\" an das cities DataFrame zu hängen</li>\n",
    "        <li>Speichern Sie das zusammengebaute DataFrame wieder in der cities Variable</li></ol></p>\n",
    "</div>"
   ]
  },
  {
   "cell_type": "code",
   "execution_count": null,
   "id": "ddeb2f01",
   "metadata": {},
   "outputs": [],
   "source": [
    "#"
   ]
  },
  {
   "cell_type": "markdown",
   "id": "4d9ecbf5",
   "metadata": {},
   "source": [
    "## Daten speichern\n",
    "\n",
    "pandas kann nicht nur Daten einlesen, sondern auch wieder in diverse Format abspeichern, siehe https://pandas.pydata.org/docs/reference/io.html\n",
    "\n",
    "Beim Abspeichern in eine Datei sollten Sie beachten, dass existierende Dateien ohne Nachfrage überschrieben werden. Es ist immer eine gute Idee, die original Daten zu behalten, um Analysen nachvollziehbar zu machen und bei Bedarf verbessern zu können."
   ]
  },
  {
   "cell_type": "markdown",
   "id": "8c6d2d93",
   "metadata": {},
   "source": [
    "<div class=\"alert alert-warning\">\n",
    "<b>ÜBUNG:</b> DataFrame abspeichern\n",
    "    <p>Speichern Sie Ihre Daten in eine Datei 'cities_non_zero.csv'. Es sollen folgende Daten abgespeichert werden:\n",
    "    <ol><li>Nur Cities mit einer Netzlänge > 0km. Dazu können Sie die status Spalte nutzen</li>\n",
    "        <li>Nur die Spalten name, country, lat, long, start_year, age, length_km - in dieser Reihenfolge</li></ol></p>\n",
    "</div>"
   ]
  },
  {
   "cell_type": "code",
   "execution_count": null,
   "id": "ae26865a",
   "metadata": {},
   "outputs": [],
   "source": [
    "#"
   ]
  },
  {
   "cell_type": "markdown",
   "id": "6f5b5f6e",
   "metadata": {},
   "source": [
    "## Abschluss\n",
    "\n",
    "Wir haben nun erste Transformationen und Filterungen mit pandas durchgeführt und das Ergebnis in einer Datei abgespeichert. Nachdem wir die Grundlagen von pandas kennengelernt haben, werden wir uns im Folgenden eher aus Richtung der Fragestellung zu den benötigten pandas-Funktionen annähern, anstatt diese systematisch durchzugehen."
   ]
  }
 ],
 "metadata": {
  "celltoolbar": "Tags",
  "kernelspec": {
   "display_name": "Python 3 (ipykernel)",
   "language": "python",
   "name": "python3"
  },
  "language_info": {
   "codemirror_mode": {
    "name": "ipython",
    "version": 3
   },
   "file_extension": ".py",
   "mimetype": "text/x-python",
   "name": "python",
   "nbconvert_exporter": "python",
   "pygments_lexer": "ipython3",
   "version": "3.8.1"
  }
 },
 "nbformat": 4,
 "nbformat_minor": 5
}
