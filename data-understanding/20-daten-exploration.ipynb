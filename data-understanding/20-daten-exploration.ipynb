{
 "cells": [
  {
   "cell_type": "markdown",
   "id": "39ce0ff6",
   "metadata": {},
   "source": [
    "# Datenexploration\n",
    "\n",
    "Nachdem wir Daten geladen haben, wollen wir sie explorieren. Dabei geht es darum\n",
    "- die Datenstruktur zu verstehen - was steht in welcher Tabelle/Spalte, wie sind die Werte kodiert, welche Skalen werden verwendet?\n",
    "- die Daten zu verstehen - wie sind die Werte verteilt, was minimal/maximale-Werte, welche Ausprägungen unseres Beobachtungsobjektes gibt es in den Daten?\n",
    "- die geschäftliche Domäne zu verstehen - welche Aussagen über das Problem lassen sich ableiten, belegen oder widersprechen diese dem Erfahrungswissen der Domänenexperten?\n",
    "\n",
    "Diese Fragestellungen werden iterativ beantwortet. Z.B. wenn Erkenntnisse aus den Daten im Widerspruch zu Expertenwissen stehen, dann lernt man ggfs. etwas über die Domäne, über die Daten oder die Datenstruktur.\n",
    "\n",
    "Das Vorgehen ist dabei nicht vorgegeben, sondern man arbeitet sich vor basierend auf dem aktuellen Wissenstand (exploratives Vorgehen). Die Hauptmethoden dabei sind:\n",
    "- Statistiken berechnen\n",
    "- Visualisierungen\n",
    "- Gruppierungen\n",
    "\n",
    "<div class=\"alert alert-info\"><b>INFO</b>\n",
    "    <p>Die Übungen und Beispiele basieren auf Daten über \n",
    "    weltweite Systeme des öffentlichen Nahverkehrs von <a href=\"https://www.citylines.co\">https://www.citylines.co</a></p>\n",
    "</div>"
   ]
  },
  {
   "cell_type": "markdown",
   "id": "a4eac878",
   "metadata": {},
   "source": [
    "## Erste Visualisierungen\n",
    "\n",
    "Wir starten damit einige Daten über die Städte mit öffentlichem Nahverkehr zu plotten, die wir aus dem letzten Kapitel kennen.\n",
    "\n",
    "Ales erstes importieren wir wie gewohnt unsere Bibliotheken. Neu hinzu kommen [Matplotlib](https://matplotlib.org) und [seaborn](https://seaborn.pydata.org) - zwei Bibliotheken für die Visualisierung von Daten. Zu Matplotlib gibt es hilfreiche [Cheatsheets](https://github.com/matplotlib/cheatsheets#cheatsheets)."
   ]
  },
  {
   "cell_type": "code",
   "execution_count": null,
   "id": "d7cd13c9",
   "metadata": {},
   "outputs": [],
   "source": [
    "import numpy as np\n",
    "import pandas as pd\n",
    "import matplotlib.pyplot as plt\n",
    "import seaborn as sns"
   ]
  },
  {
   "cell_type": "markdown",
   "id": "e9eaad2b",
   "metadata": {},
   "source": [
    "Im nächsten Schritt lesen wir die gefilterte und transformierte cities Datenbank aus dem letzten Kapitel ein. Standardmäßig wird dabei ein neuer Index gebildet, der von 0 an jede Zeile durchnummeriert. Die erste Spalte in unserem Datensatz mit dem Namen 'id' beinhaltet jedoch schon unseren gewünschten Index. Dies können wir mit dem Parameter `index_col` direkt beim Einlesen angeben:"
   ]
  },
  {
   "cell_type": "code",
   "execution_count": null,
   "id": "b5bc95da",
   "metadata": {},
   "outputs": [],
   "source": [
    "cities = pd.read_csv('data/cities_non_zero.csv', index_col='id')\n",
    "cities.head()"
   ]
  },
  {
   "cell_type": "markdown",
   "id": "9e0b3eff",
   "metadata": {},
   "source": [
    "Um Grafiken mit Matplotlib zu erstellen, erzeugen wir zunächst mit `plt.subplots` ein `figure` und ein `axes` Objekt. Insbesondere auf dem `axes` Objekt rufen wir dann verschiedene Methoden auf, um z.B. den Titel zu setzen, Daten hinzuzufügen, die Achsen zu beschriften und so weiter. Am Ende einer Zelle rufen wir `plt.show()` auf und erhalten, dann direkt im Jupyter Notebook, das gewünschte Chart.\n",
    "\n",
    "Es gibt noch weitere Möglichkeiten, wie z.B. direkte Methodenaufrufe auf dem `plt`-Objekt oder verwenden `plot`-Funktion eines pandas DataFrames. Wir konzentrieren uns hier auf den erstgenannten Weg, da er am flexibelsten ist und auch meist in Beispielen insbesondere der [Matplotlib Gallerie](https://matplotlib.org/stable/gallery/index.html) verwendet wird. Die Galerie ist ein guter weg, um sich inspieren zu lassen welche Charts es gibt und welche für die vorhandenen Daten geeignet sind. Zu jedem Beispiel in der Galerie gibt es den Source Code, den man dann ins eigene Notebook kopieren und an den lokalen Datensatz anpassen kann.\n",
    "\n",
    "Fangen wir mit einem wenig aussagekräftigen aber dafür einfachen Chart an. Wir wollen das Alter des Liniennetzes in Abhängigkeit vom Startjahr plotten:"
   ]
  },
  {
   "cell_type": "code",
   "execution_count": null,
   "id": "73438856",
   "metadata": {},
   "outputs": [],
   "source": [
    "# Erstellen von Figure und Axes Objekt\n",
    "# Ohne weitere Parameter wird ein einzelner Plot angelegt\n",
    "# figsize gibt die Breite und Höhe des Plots an\n",
    "fig, ax = plt.subplots(figsize=(10,6))\n",
    "\n",
    "# Setzen einer Gesamtüberschrift\n",
    "ax.set_title(\"Alter der Liniennetze\")\n",
    "# Setzen von Labeln für die X- und Y-Achse\n",
    "ax.set_xlabel(\"Startjahr des Liniennetzes\")\n",
    "ax.set_ylabel(\"Alter in Jahren\")\n",
    "\n",
    "# Hinzufügen der Daten als Linien-Diagramme\n",
    "# Erster Parameter sind die Werte auf der X-Achse\n",
    "# Zweiter Parameter die zugehörigen Werte auf der Y-Achse\n",
    "ax.plot(cities['start_year'], cities['age'])\n",
    "\n",
    "plt.show()"
   ]
  },
  {
   "cell_type": "markdown",
   "id": "ab54e476",
   "metadata": {},
   "source": [
    "Kommen wir zu interessanteren Schaubildern. Als erstes möchten wir die Orte der Städte visualisieren. Dazu verwenden wir den Scatter-Plot. Im Scatter-Plot werden für jede Zeile ein Punkt an X und Y gemacht aber diese nicht mit einer Linie verbunden. Dies eigenet sich um Verteilungen zu vergleichen oder unabhängige Punkte zu visualisieren - wie in unserem Beispiel: die Städte sind unabhängig zu visualisieren und nicht etwa Teil einer geordneten Route durch alle Städte."
   ]
  },
  {
   "cell_type": "code",
   "execution_count": null,
   "id": "310d8f61",
   "metadata": {},
   "outputs": [],
   "source": [
    "fig, ax = plt.subplots(figsize=(10,6))\n",
    "ax.scatter(x=cities['long'], y=cities['lat'], marker='.')\n",
    "plt.show()"
   ]
  },
  {
   "cell_type": "markdown",
   "id": "b9dd843e",
   "metadata": {},
   "source": [
    "Mit etwas Phantasie können wir erraten, wo auf der Weltkarte diese Punkte sind. Besser funktioniert das mit einem Hintergrundbild:"
   ]
  },
  {
   "cell_type": "code",
   "execution_count": null,
   "id": "dba3dca9",
   "metadata": {},
   "outputs": [],
   "source": [
    "# Einlesen des Hintergrundbilds aus Bilddatei\n",
    "# Quelle: https://visibleearth.nasa.gov/images/147190/explorer-base-map\n",
    "worldmap = plt.imread('eo_base_2020_clean_720x360.jpg')\n",
    "# Seitenverhältnis des Bilds berechnen: Breite des Bilds / Höhe des Bilds\n",
    "# aspect_ratio = worldmap.shape[1] / worldmap.shape[0]\n",
    "# Das Bild ist eine \"platte\" Projektion der Erde, so das wir Geographische\n",
    "# Koordinaten direkt als x,y Position auf dem Bild verwenden können\n",
    "# Bounding Box: links, rechts, unten, oben\n",
    "# Das Bild geht von -180 bis +180 Längengrad und von -90 bis +90 Breitengrad\n",
    "bbox = (-180, 180, -90, 90)\n",
    "\n",
    "# Erstellen eines Plots mit gegebener Größe\n",
    "fig, ax = plt.subplots(figsize=(18, 9))\n",
    "\n",
    "# Koordinatensystem über Bild legen\n",
    "ax.set_xlim(bbox[0], bbox[1])\n",
    "ax.set_ylim(bbox[2], bbox[3])\n",
    "\n",
    "# Anzeigen des Bilds\n",
    "ax.imshow( worldmap, zorder=0, extent=bbox)\n",
    "\n",
    "# Städte per Scatter-Plot von Längend und Breitengrad auf Bild plotten\n",
    "ax.scatter(cities['long'], cities['lat'], marker='.' )\n",
    "\n",
    "plt.show()"
   ]
  },
  {
   "cell_type": "markdown",
   "id": "d40926c8",
   "metadata": {},
   "source": [
    "Nun können wir auf einen Blick sehen, dass die Daten sehr konzentriert auf Europa sind mit weiteren Datenpunkten aus USA, Asien und Südamerika. Große Teil der Erde besitzen entweder keine Liniennetze oder sind nicht in unserem Datensatz repräsentiert. Wie mit dieser Erkenntnis umgegangen wird ist eine Geschäftsentscheidung. Rein aus den Daten weiß man nicht, ob die Daten repräsentativ sind oder nicht. Dazu braucht man Hintergrundwissen über Liniennetze weltweit. Falls die Daten nicht repräsentativ sind, dann ist es ebenso nur mit domänenspezifischem Hintergrundwissen zu entscheiden, ob das relevant ist und weitere Daten besorgt werden müssen oder ob es für das gegebene Problem egal ist. In jedem Fall muss es dokumentiert und zwischen Analytikern und Auftraggebern geklärt werden."
   ]
  },
  {
   "cell_type": "markdown",
   "id": "de688e24",
   "metadata": {},
   "source": [
    "Kommen wir zurück zum Alter der Lininennetze. Um ein Verständnis zu bekommen wie alt die Netze sind eignet sich ein Histogramm:"
   ]
  },
  {
   "cell_type": "code",
   "execution_count": null,
   "id": "253e2914",
   "metadata": {},
   "outputs": [],
   "source": [
    "fig, ax = plt.subplots(figsize=(10,6))\n",
    "ax.set_xlabel('Startjahr des Netzes')\n",
    "ax.set_ylabel('Anzahl der Netze')\n",
    "ax.hist(cities['start_year'])\n",
    "plt.show()"
   ]
  },
  {
   "cell_type": "markdown",
   "id": "36d894d5",
   "metadata": {},
   "source": [
    "Das Histogramm benötigt nur eine Spalte. Die Werte dieser Spalte werden in Klassen (*bins*) eingeteilt, die mehrere Werte (z.B. die Jahre 1850 - 1870) zusammenfassen. Diese Klassen werden auf der x-Achse des Histograms dargestellt und auf der Y-Achse wird die Anzahl der Zeilen mit einem Wert innerhalb der entsprechenden Klasse aufgetragen. Die Klassen können variiert werden, entweder durch explizite Angabe oder durch die Anzahl. Im Folgenden ein Beispiel mit einem bin von abweichender Größe für den 2. Weltkrieg:"
   ]
  },
  {
   "cell_type": "code",
   "execution_count": null,
   "id": "ee522928",
   "metadata": {},
   "outputs": [],
   "source": [
    "fig, ax = plt.subplots(figsize=(10,6))\n",
    "ax.set_xlabel('Startjahr des Netzes')\n",
    "ax.set_ylabel('Anzahl der Netze')\n",
    "ax.hist(cities['start_year'], bins=[1825, 1850, 1875, 1900, 1925, 1939,1945,1950, 1975, 2000, 2025])\n",
    "plt.show()"
   ]
  },
  {
   "cell_type": "markdown",
   "id": "161ec0fc",
   "metadata": {},
   "source": [
    "Die Anzahl und Auswahl der *bins* kann großen Einfluss auf die Darstellung haben und was daraus interpretiert. Das kann man umgehen indem man die Anzahl der *bins* auf die Anzahl der Datenpunkte setzt. Hier bietet sich aber eine kumulative Darstellung an, die nicht die Anzahl der Einträge im entsprechenden *bin* darstellt (diese ist ja per Definition immer 1 - abgesehen von Datendopplungen), sondern die Summe aller Datenpunkte, die kleiner oder gleich dem entsprechenden Wert auf der X-Achse ist. Dies wird auch Summenhäufigkeitsfunktion der Stichprobe oder auf englisch empirical cumulative distribution dunction (ECDF) genannt. \n",
    "\n",
    "Um die ECDF besser zu verstehen, hilft es die Daten mit 2 einfachen NumPy-Funktionen berechnen:\n",
    "- `np.sort()` sortiert unsere Werte aufsteigend - dies wird die X-Achse. Achtung: nicht die Series direkt sortieren, sondern eine Kopie der Daten, sonst wird die Spalte isoliert sortiert und passt nicht mehr zu den anderen Spalten\n",
    "- `np.arrange(n)` erstellt ein Array von 0 bis n-1 - dies wird die Y-Achse. Es funktioniert in diesem Fall wie ein hochlaufender Zähler der Zeilen und somit der Datensätze, die kleiner gleich dem Wert auf der X-Achse an entsprechender Position ist"
   ]
  },
  {
   "cell_type": "code",
   "execution_count": null,
   "id": "bede5fd9",
   "metadata": {},
   "outputs": [],
   "source": [
    "fig, ax = plt.subplots(figsize=(10,6))\n",
    "# Achtung erst mit .values auf eine Kopie der Daten zugreifen\n",
    "x = np.sort(cities['start_year'].values)\n",
    "y = np.arange(len(cities['start_year']))\n",
    "ax.plot(x, y)\n",
    "plt.show()"
   ]
  },
  {
   "cell_type": "markdown",
   "id": "672953ff",
   "metadata": {},
   "source": [
    "Alternativ gibt es (wie bei vielen statistischen Charts) ein vorgefertigtes Chart in seaborn:"
   ]
  },
  {
   "cell_type": "code",
   "execution_count": null,
   "id": "c5b8545b",
   "metadata": {},
   "outputs": [],
   "source": [
    "sns.displot(cities, x=\"start_year\", kind=\"ecdf\")\n",
    "plt.show()"
   ]
  },
  {
   "cell_type": "markdown",
   "id": "b3a4066e",
   "metadata": {},
   "source": [
    "Um eine Übersicht der Werteverteilungen zu bekommen und Outlier festzustellen eignet sich auch sehr gut ein Boxplot. Hier werden für numerischen Spalten jeweils \"Boxen\" gezeichnet mit folgenden Eigenschaften:\n",
    "- Die Box geht auf der Y-Achse vom unteren Quartil (Q1, 25% der Werte sind kleiner als dieser Wert) bis zum oberen Quartil (Q3, 25% der Werte sind größer als dieser Wert\n",
    "- Eine horizontale Linie beim Median (50% der Werte sind kleiner/größer als dieser Wert)\n",
    "- Striche (*whiskers*) markieren den \"normalen\" Bereich der Daten - diese können über Parameter verändert werden aber standarmäßig ist der Bereich zwischen 1.5 x (Q3-Q1) unterhalb Q1 / oberhalb Q3\n",
    "- Punkte für alle Werte, die außerhalb der *whiskers* sind - sogenannte Outliers\n",
    "\n",
    "Da unsere numerischen Werte unterschiedliche Wertebereiche haben, erzeugen wir die boxplots nebeneinander in subplots."
   ]
  },
  {
   "cell_type": "code",
   "execution_count": null,
   "id": "61798e6e",
   "metadata": {},
   "outputs": [],
   "source": [
    "fig, ax = plt.subplots(ncols=3, figsize=(10,6))\n",
    "ax[0].boxplot(cities['start_year'], labels=['Jahr'])\n",
    "ax[1].boxplot(cities['age'], labels=['Alter'])\n",
    "ax[2].boxplot(cities['length_km'], labels=['Länge in km'])\n",
    "plt.show()"
   ]
  },
  {
   "cell_type": "markdown",
   "id": "42a19b2c",
   "metadata": {},
   "source": [
    "\n",
    "\n",
    "<div class=\"alert alert-warning\">\n",
    "<b>ÜBUNG:</b>Alter vs. Länge\n",
    "    <ol><li>Erstellen Sie einen Scatter-Plot, der den Zusammenhäng zwischen Alter und Länge des Liniennetzes darstellt</li>\n",
    "        <li>Gehen Sie durch die Doku von <a href=\"https://matplotlib.org/stable/api/_as_gen/matplotlib.pyplot.subplots.html#matplotlib.pyplot.subplots\">subplots</a> und erstellen eine 2 x 2 Matrix von Plots. Beachten Sie, dass der Rückgabewert der Funktion nun ein Array von axes ist. Zeichnen Sie in die linke untere Ecke den Scatter-Plot wie oben</li>\n",
    "         <li>Fügen Sie nun über dem Scatter-Plot das Histogramm für den X-Achsen-Wert des Scatter-Plots und rechts daneben das Histogramm für den Y-Achsen-Wert. Nutzen Sie für das Histogramm rechts unten die vertikale Orientierung (siehe Doku)</li>\n",
    "        <li>Bei der Länge gibt es einige Outlier, die das Chart zu sehr verdichten. Wählen Sie mit Hilfe des Boxplots oben eine geeignete Grenze aus und erstellen ein neues Datenset ohne Outlier. Zeichnen Sie erneut die Charts für das neue Datenset.</li>\n",
    "        <li>Bonus: Berechnen Sie mit Hilfe von np.polyfit eine Lineare Regression zwischen Startjahr und Länge. Zeichnen Sie die entsprechende Linie in den Scatter-Plot</li>\n",
    "</div>"
   ]
  },
  {
   "cell_type": "code",
   "execution_count": null,
   "id": "4e85cb0e",
   "metadata": {},
   "outputs": [],
   "source": [
    "# 1."
   ]
  },
  {
   "cell_type": "code",
   "execution_count": null,
   "id": "ad8668db",
   "metadata": {},
   "outputs": [],
   "source": [
    "# 2. und 3."
   ]
  },
  {
   "cell_type": "code",
   "execution_count": null,
   "id": "ab0853fe",
   "metadata": {},
   "outputs": [],
   "source": [
    "# 4."
   ]
  },
  {
   "cell_type": "code",
   "execution_count": null,
   "id": "52edeca4",
   "metadata": {},
   "outputs": [],
   "source": [
    "# 5."
   ]
  },
  {
   "cell_type": "markdown",
   "id": "929c8736",
   "metadata": {},
   "source": [
    "## Daten zusammenfassen: Statistiken\n",
    "\n",
    "pandas biete viele Funktionen um Daten zusammenzufassen. Die einfachste Möglichkeit ist statistische Merkmale über numerische Spalten zu berechnen, z.B.:"
   ]
  },
  {
   "cell_type": "code",
   "execution_count": null,
   "id": "c06b813f",
   "metadata": {},
   "outputs": [],
   "source": [
    "print(f'Anzahl der Städte: {cities[\"name\"].count()}')\n",
    "print(f'Durchschnittliches Alter der Netze: {cities[\"age\"].mean():.1f} Jahre')\n",
    "print(f'Alter der Netze:')\n",
    "print(f'  Min:        {cities[\"age\"].min():5.1f}')\n",
    "print(f'  1. Quartil: {cities[\"age\"].quantile(0.25):5.1f}')\n",
    "print(f'  Median:     {cities[\"age\"].quantile(0.5):5.1f}')\n",
    "print(f'  3. Quartil: {cities[\"age\"].quantile(0.75):5.1f}')\n",
    "print(f'  Max:        {cities[\"age\"].max():5.1f}')\n",
    "print(f'Gesamtlänge der Netze: {cities[\"length_km\"].sum():,.0f} km')"
   ]
  },
  {
   "cell_type": "markdown",
   "id": "3e727b67",
   "metadata": {},
   "source": [
    "Die entsprechenden Funktionen können auch auf das Gesamte DataFrame angewandt werden und werden dann für jede Spalte getrennt berechnet. Das Ergebnis ist eine Series mit den Spaltennamen als Index. Die Werte werden berechnet, wenn die Operation (z.B. `+` für `sum`) definiert ist, unabhängig davon, ob es inhaltlich sinnvoll ist, z.B.:"
   ]
  },
  {
   "cell_type": "code",
   "execution_count": null,
   "id": "a1cb42c5",
   "metadata": {},
   "outputs": [],
   "source": [
    "# Summe über alle Spalten\n",
    "# Strings werden hintereinanders weggeschrieben \n",
    "# Die Summe der Startjahre sowie der Geo-Koordinaten hat keine verwertbare Bedeutung\n",
    "cities.sum()"
   ]
  },
  {
   "cell_type": "code",
   "execution_count": null,
   "id": "dd405c44",
   "metadata": {},
   "outputs": [],
   "source": [
    "# Durchschnittswerte sind nur für numerische Typen definiert\n",
    "# Spalten von anderen Typen müssen zuvor aussortiert werden,\n",
    "# sonst erscheint eine Warnung\n",
    "cities[['lat', 'long', 'start_year', 'age', 'length_km']].mean()"
   ]
  },
  {
   "cell_type": "markdown",
   "id": "6d58531d",
   "metadata": {},
   "source": [
    "Weitere Funktionen finden Sie in der API Referenz: https://pandas.pydata.org/docs/reference/series.html#computations-descriptive-stats\n",
    "\n",
    "Recht nützlich beim Kennenlernen eines Datensatzes ist die `describe`-Methode, die verschiedene deskriptive Statistiken erstellt:"
   ]
  },
  {
   "cell_type": "code",
   "execution_count": null,
   "id": "2eb11764",
   "metadata": {},
   "outputs": [],
   "source": [
    "cities.describe()"
   ]
  },
  {
   "cell_type": "markdown",
   "id": "9424e585",
   "metadata": {},
   "source": [
    "## Daten zusammenfassen: Gruppierungen\n",
    "\n",
    "Häufig sind Statistiken nicht nur gesamthaft für alle Daten interessant, sondern für Untergruppen. Hier kommt die `groupby`-Methode ins Spiel. Dabei werden ein oder mehrere Spalten angegeben, die die Gruppen bestimmen. Jede eindeutige Wertekombination dieser Spalten ergibt eine neue Gruppe. Für diese Gruppen kann dann mit der `agg`-Methode angeben werden für welche anderen Spalten welche Statistiken berechnet werden.\n",
    "\n",
    "Beispiele:"
   ]
  },
  {
   "cell_type": "code",
   "execution_count": null,
   "id": "20c40fde",
   "metadata": {},
   "outputs": [],
   "source": [
    "# Gruppieren nach 1 Spalte (Land) und gleiche Aggregation für alle (numerischen) Spalten\n",
    "# Direkte Verwendendung von Aggregations-Funktion (Summe) auf den Gruppen:\n",
    "cities.groupby('country').sum().head()"
   ]
  },
  {
   "cell_type": "code",
   "execution_count": null,
   "id": "a81944be",
   "metadata": {},
   "outputs": [],
   "source": [
    "# Gruppieren nach 1 Spalte (Land) aber verschiedene Aggregationen für verschiedene Spalten\n",
    "# Funktionen werden über Dictionary den Spalten zugewiesen)\n",
    "# Per Liste sind auch mehrere Funktionen pro Spalte möglich\n",
    "cities.groupby('country').agg({'start_year': 'min', 'length_km': 'sum', 'name': 'count'}).head()"
   ]
  },
  {
   "cell_type": "markdown",
   "id": "45b9829f",
   "metadata": {},
   "source": [
    "Statt einer Spalte, können auch mehrere in Form einer Liste angegeben werden.\n",
    "Standardmäßig werden die Gruppen als Index des resultierenden Datensatzes gesetzt. Für die Weiterverarbeitung ist es oftmals praktischer die Gruppen als normale Spalten zu haben - dafür gibt es den Parameter `as_index=False`. "
   ]
  },
  {
   "cell_type": "markdown",
   "id": "acf71169",
   "metadata": {},
   "source": [
    "## Daten sortieren\n",
    "\n",
    "Beim Gruppieren werden die Gruppen standardmäßig sortiert. Dies ist auch nützlich um z.B. die größten oder ältesten Netze zu finden:"
   ]
  },
  {
   "cell_type": "code",
   "execution_count": null,
   "id": "768c95db",
   "metadata": {},
   "outputs": [],
   "source": [
    "# Die 5 ältesten Netze anzeigen\n",
    "# DataFrame wird standardmäßig nicht verändert!\n",
    "cities.sort_values('start_year',ascending=True).head(5)"
   ]
  },
  {
   "cell_type": "code",
   "execution_count": null,
   "id": "48ebd4f4",
   "metadata": {},
   "outputs": [],
   "source": [
    "# Das DataFrame dauerhaft nach Länge absteigend sortieren\n",
    "cities.sort_values('length_km', ascending=False,inplace=True)\n",
    "# Die ersten 5 Einträge anzeigen\n",
    "cities.head(5)"
   ]
  },
  {
   "cell_type": "markdown",
   "id": "13024690",
   "metadata": {},
   "source": [
    "Auch hier können wieder mehrere Spalten in Form einer Liste angegeben werden - ascending kann dann auch als Liste angegeben werden, wenn je Spalte eine unterschiedliche Reihenfolge gewünscht ist. Soll statt nach einer Spalte nach dem Index sortiert werden, muss die Methode `sort_index` verwendet werden.\n",
    "\n",
    "Um die n größten Einträge anzuzeigen gibt es auch eine Hilfsmethode `nlargest`:"
   ]
  },
  {
   "cell_type": "code",
   "execution_count": null,
   "id": "d102860e",
   "metadata": {},
   "outputs": [],
   "source": [
    "cities.nlargest(3, 'age')"
   ]
  },
  {
   "cell_type": "markdown",
   "id": "29cd922b",
   "metadata": {},
   "source": [
    "Sollen das älteste Netz pro Land angezeigt werden, müssen wir verschiedene Techniken kombinieren:\n",
    "- Der Datensatz wird sortiert nach Alter\n",
    "- Es wird gruppiert nach Land\n",
    "- Pro Gruppe wird mit head(1) der erste Eintrag angezeigt - da der Datensatz sortiert ist, ist es auch der älteste"
   ]
  },
  {
   "cell_type": "code",
   "execution_count": null,
   "id": "c74978d6",
   "metadata": {},
   "outputs": [],
   "source": [
    "cities.sort_values('age', ascending=False, inplace=True)\n",
    "oldest_per_country = cities.groupby('country').head(1)\n",
    "oldest_per_country.head(5)"
   ]
  },
  {
   "cell_type": "code",
   "execution_count": null,
   "id": "48e06539",
   "metadata": {},
   "outputs": [],
   "source": [
    "# Beachten Sie, dass eine max-Aggregation ein anderes Ergebnis liefert\n",
    "# Hier werden alle Spalten unabhängig voneinander maximiert\n",
    "# D.h. es wird zwar das maximale Alter ausgegeben, doch gehört\n",
    "# dies nicht zwangsläufig zur genannten Stadt/Koordinate/Länge\n",
    "cities.groupby('country',as_index=False, sort=False).max().head(5)"
   ]
  },
  {
   "cell_type": "markdown",
   "id": "9efab2e3",
   "metadata": {},
   "source": [
    "<div class=\"alert alert-warning\">\n",
    "<b>ÜBUNG: </b> Bar Charts\n",
    "<p>Bar Charts sind nützlich, um Werte für verschiedene Kategorien zu vergleiche, z.B. das Alter des Liniennetzes (Werte) für verschiedene Städte (Kategorien). Die Kategorien stehen in keinem direkten Zusammenhang und daher eignen sich unabhängige Balken (*bars*) mehr als eine durchgehende Linie, die man z.B. bei einem zeitlichen oder räumlichen Verlauf gut nutzen kann. Nutzen Sie das <a href=\"https://matplotlib.org/stable/gallery/lines_bars_and_markers/barh.html#sphx-glr-gallery-lines-bars-and-markers-barh-py\">Galerie-Beispiel</a> und die <a href=\"https://matplotlib.org/stable/api/_as_gen/matplotlib.axes.Axes.barh.html#matplotlib.axes.Axes.barh\">Matplotlib-Doku</a> für die folgende Aufgabe:</p>\n",
    "    <p>Erstellen Sie nebeneinander zwei horizontale Bar-Charts, die die 10 Länder mit den ältesten Liniennetzen darstellen. Im linken Chart soll die Länge des ältesten Netzes des Landes dargstellt werden. Im rechten Chart das Alter. Fügen Sie Beschriftungen zu den *bars* hinzu, die den genauen Wert (Länge/Alter) anzeigen. Nutzen Sie hierfür die Matplotlab-Galerie, um eine passende Vorlage zu finden.</p>\n",
    "</div>"
   ]
  },
  {
   "cell_type": "code",
   "execution_count": null,
   "id": "62f3da21",
   "metadata": {},
   "outputs": [],
   "source": [
    "#"
   ]
  }
 ],
 "metadata": {
  "celltoolbar": "Tags",
  "kernelspec": {
   "display_name": "Python 3 (ipykernel)",
   "language": "python",
   "name": "python3"
  },
  "language_info": {
   "codemirror_mode": {
    "name": "ipython",
    "version": 3
   },
   "file_extension": ".py",
   "mimetype": "text/x-python",
   "name": "python",
   "nbconvert_exporter": "python",
   "pygments_lexer": "ipython3",
   "version": "3.8.1"
  }
 },
 "nbformat": 4,
 "nbformat_minor": 5
}
